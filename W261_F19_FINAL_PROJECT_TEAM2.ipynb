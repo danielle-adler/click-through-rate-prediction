{
 "cells": [
  {
   "cell_type": "markdown",
   "metadata": {},
   "source": [
    "# w261 Final Project - Team 2: Clickthrough Rate Prediction"
   ]
  },
  {
   "cell_type": "markdown",
   "metadata": {},
   "source": [
    "<img src=\"images/Berkeley Criteo.png\" style=\"width: 600px;\" align=\"left\">"
   ]
  },
  {
   "cell_type": "markdown",
   "metadata": {},
   "source": [
    "#### Danielle Adler, Craig Fujii, Conor Healy, YoungKoung Kim\n",
    "\n",
    "#### Fall 2019, Section 1 (Danielle and Craig), 2 (Conor), 4 (YoungKoung)"
   ]
  },
  {
   "cell_type": "markdown",
   "metadata": {},
   "source": [
    "<br>"
   ]
  },
  {
   "cell_type": "markdown",
   "metadata": {},
   "source": [
    "## Table of Contents\n",
    "\n",
    "* __Section 1__ - Question Formulation\n",
    "* __Section 2__ - Algorithm Explanation\n",
    "* __Section 3__ - Exploratory Data Analysis & Challenges\n",
    "* __Section 4__ - Algorithm Implementation\n",
    "* __Section 5__ - Course Concepts"
   ]
  },
  {
   "cell_type": "markdown",
   "metadata": {},
   "source": [
    "<br>"
   ]
  },
  {
   "cell_type": "markdown",
   "metadata": {},
   "source": [
    "# __Section 1__ - Question Formulation"
   ]
  },
  {
   "cell_type": "markdown",
   "metadata": {},
   "source": [
    "**<font color='red'>\n",
    "    1. Question Formulation -- Introduce the goal of your analysis. What questions will you seek to answer, why do people perform this kind of analysis on this kind of data? Preview what level of performance your model would need to achieve to be practically useful.\n",
    "</font>**"
   ]
  },
  {
   "cell_type": "markdown",
   "metadata": {},
   "source": [
    "Click-through rate (CTR) is a measure of how often users click on a specific link among those who view a page, email, or advertisement. Accuracy of a CTR prediction is very important for organizations that need to understand online user behavior. For example, these predictions can be used in online advertising to target customers. If companies had an accurate idea of customer performance, they could increase the likelihood of online products being viewed and purchased. Large amounts of CTR data created by millions of web users’ daily activities, lead to challenges in implementing machine learning algorithms that can efficiently provide meaningful insights on the data.\n",
    "\n",
    "The primary goal of our project is to build binary classification models to predict CTR by implementing two popular machine learning algorithms for binary classifications - logistic regression and decision trees. The specific research questions are:\n",
    "\n",
    "*   Which machine learning algorithm produce the best predictions of CTR?\n",
    "*   What metric(s) should we consider when we are defining \"best\" predictions of CTR?\n",
    "*   How can we implement scalable machine learning algorithms that efficiently handle a large amount of data?\n",
    "\n",
    "To answer these questions, we analyzed the CTR for the [Criteo Advertising Data](https://www.kaggle.com/c/criteo-display-ad-challenge/data). The data includes a target variable that indicates if an ad was clicked (1) or not clicked (0), 13 integer features and 26 categorical features. The detailed description of the data, the treatment of the missing values, and the transformations of categorical features, and the machine learning models themselves are presented below. We compare the model performance based on the classification evaluation metrics:\n",
    "\n",
    "*   Accuracy = $\\frac{True Positives + True Negatives}{True Positives + True Negatives + False Positive + Negatives}$ <br>\n",
    "\n",
    "*   Precision = $\\frac{True Positives}{True Positives + False Positive}$ <br>\n",
    "\n",
    "*   Recall = $\\frac{True Positives}{True Posititves + False Negatives}$ <br>\n",
    "\n",
    "*   F1 score = $2\\cdot\\frac{Precision\\cdot Recall}{Precision + Recall}$ <br>\n",
    "\n",
    "We have decided to focus on F1 score as our primary measure of success. Accuracy, which is simply the proportion of observations predicted correctly over total observations, is not the best measure. Accuracy assigns equal weight to false positives and false negatives. When the dataset is balanced, that can work very well. However, as we will show in the EDA section below, our dataset is not well balanced. Far more users do not click when given the opportunity than do click. Therefore, we would still have mediocre accuracy if all observations were predicted on the not clicked class (0).\n",
    "\n",
    "We favored the F1 score because it takes precision (ratio of the true positives to true and false positives) and recall (ratio of the true positives to true positives and false negatives) into account. Therefore, the F1 score is essentially taking both false positives and false negatives into account without needing to weight them equally. This type of scoring system to evaluate predictive performance works best when classes are not balanced, which is the case with our data. We will be comparing our logistic regression and decision tree models to three baseline models which create a random 50/50 prediction, a weighted 75/25 random prediction, or predicts everything to the majority class. Our goal will be to have higher F1 scores than the baseline model(s).\n",
    "\n",
    "Although the two models that we focus on for our project are very often used for binary classification problems, we expect our study to have clear limitations. Studies found that ensemble learning models that combine these models perform better for predicting this type of binary classification. If we had more time, we would like to explore combining the decision tree and logistic regression algorithms as this may improve prediction. As we discussed when choosing the F1 score, the desired action is a relatively rare event and thus results in unbalanced data, which may affect our prediction. Balancing our CTR class variable would be something that we would like to pursue in future analysis.\n",
    "\n",
    "**Resources Referenced:**\n",
    "*   [Towards Data Science: Accuracy, Precision, Recall or F1?](https://towardsdatascience.com/accuracy-precision-recall-or-f1-331fb37c5cb9)\n",
    "*   [Towards Data Science: Beyond Accuracy: Precision and Recall](https://towardsdatascience.com/beyond-accuracy-precision-and-recall-3da06bea9f6c)\n",
    "*   [Machine Learning Mastery: How to Calculate Precision, Recall, F1, and More for Deep Learning Models](https://machinelearningmastery.com/how-to-calculate-precision-recall-f1-and-more-for-deep-learning-models/)"
   ]
  },
  {
   "cell_type": "markdown",
   "metadata": {},
   "source": [
    "<br>\n",
    "<br>"
   ]
  },
  {
   "cell_type": "markdown",
   "metadata": {},
   "source": [
    "# __Section 2__ - Algorithm Explanation"
   ]
  },
  {
   "cell_type": "markdown",
   "metadata": {},
   "source": [
    "**<font color='red'>\n",
    "2. Algorithm Explanation -- Create your own toy example that matches the dataset provided and use this toy example to explain the math behind the algorithm that you will perform.\n",
    "</font>**"
   ]
  },
  {
   "cell_type": "markdown",
   "metadata": {},
   "source": [
    "We used two different machine learning algorithms to attempt our predictions of CTR on the dataset: logistic regression and decision trees. We have described both below:\n",
    "\n",
    "## Toy Dataset Transformations\n",
    "\n",
    "In order to explain our process, we will start with a dataset that includes our result, two numeric variables, and one categorical variable.  In our real dataset, the categorical variables are masked by hashed values, and we have far more features. The overall process is the same though.\n",
    "\n",
    "| example # | result | numeric1 | numeric2 | categorical1 |\n",
    "|-----------|--------|----------|----------|--------------|\n",
    "| 1         | 0      | 1.0      | 2        | apple        |\n",
    "| 2         | 0      | 2.0      | 2        | apple        |\n",
    "| 3         | 1      | 1.0      | 4        | banana       |\n",
    "| 4         | 1      | 1.0      | 13       | apple        |\n",
    "\n",
    "\n",
    "### Transformation of Categorical Variables\n",
    "\n",
    "To transform the categorical variables into a format usable in logistic regression, we both \"binned\" and \"one-hot encoded\" the categorical variables. We performed other transformations too such as taking the weighted average of the dependent variable (i.e. CTR) for each value within the categorical variables and then imputing these values as the categorical values themselves. This method essentially turned the categorical variables into numeric variables, which resulted in a bit of overfitting on the toy dataset and a slightly better performance on the full dataset. The dataset that we felt most confident in across our two machine learning algorithms included binning and one-hot ending, and we will discuss those further below.\n",
    "\n",
    "\n",
    "#### Binning of Encoded Categorical Variables\n",
    "\n",
    "For both scale and performance reasons, we \"binned\" our categorical variables: we grouped the values (distinct categories) within each categorical variable based on rules we chose. This reduced the number of unique categories in each variable, which reduced the number of new columns created in the next step of one-hot encoding. In future enhancements of our model, we would update our grouping rule to attempt to address overfitting; we could calculate the confidence in the generalizability of each unique value in each category, and group the less generalizable values into the same \"other\" bin as unseen observations from our test data.\n",
    "\n",
    "For each categorical variable, we: \n",
    "\n",
    "1. Identified the Distinct Values:\n",
    "\n",
    "| categorical1 |\n",
    "|--------------|\n",
    "| apple        |\n",
    "| banana       |\n",
    "\n",
    "\n",
    "2. Calculated the _proportion_ of class \"1\" vs. \"0\" results:\n",
    "\n",
    "| categorical1 | 1 | 0 | proportion |\n",
    "|--------------|---|---|------------|\n",
    "| apple        | 1 | 2 | 1/3        |\n",
    "| banana       | 1 | 0 | 1/1        |\n",
    "\n",
    "\n",
    "3. Applied our binning rule (in this case, _proportion_ > 0.6 = \"High\", _proportion_ > 0.1 = \"Medium\",  _proportion_ <= 0.1 = \"Low\", _null values_ = \"Other\"):\n",
    "\n",
    "| categorical1 | 1 | 0 | proportion | binned value |\n",
    "|--------------|---|---|------------|--------------|\n",
    "| apple        | 1 | 2 | 1/3        | Low          |\n",
    "| banana       | 1 | 0 |   1        | High         |\n",
    "\n",
    "\n",
    "4. Updated the values in the categorical variable according to our _binned value_:\n",
    "\n",
    "| example # | result | numeric1 | numeric2 | categorical1 |\n",
    "|-----------|--------|----------|----------|--------------|\n",
    "| 1         | 0      | 1.0      | 2        | Low          |\n",
    "| 2         | 0      | 2.0      | 2        | Low          |\n",
    "| 3         | 1      | 1.0      | 4        | High         |\n",
    "| 4         | 1      | 1.0      | 13       | Low          |\n",
    "\n",
    "\n",
    "#### One-Hot Encoding of Binned Categorical Variables\n",
    "\n",
    "Logistic regression among many machine learning algorithms needs the variables in a numeric format, so we \"one-hot encode\" the categorical variables: we replace the binned categorical variables with a series of new variables where, for each unique value in the original variable, we create a new column to represent that value (_categorical1A_ represents \"High\", _categorical1B_ represents \"Medium\", etc.), and code each row \"1\" if the value in the original variable matched the value that the new variable represents and \"0\" otherwise. \n",
    "\n",
    "\n",
    "| example # | result | numeric1 | numeric2 | categorical1A | categorical1B |\n",
    "|-----------|--------|----------|----------|---------------|---------------|\n",
    "| 1         | 0      | 1.0      | 2        | 1             | 0             | \n",
    "| 2         | 0      | 2.0      | 2        | 1             | 0             | \n",
    "| 3         | 1      | 1.0      | 4        | 0             | 1             | \n",
    "| 4         | 1      | 1.0      | 13       | 1             | 0             | \n",
    "\n",
    "\n",
    "### Log Transforming and Scaling Numeric Variables\n",
    "\n",
    "We performed EDA and saw that many of our numerical distributions were heavily right-skewed with long tails showing that the numeric variables were not normally distributed. When we took the log transformations (shown in histograms below), the distributions were much better for all variables. Therefore, we first took the natural log transformation of all variables. To keep variables with larger values from overpowering the model, we also scaled the numeric variables to a range between 0 and 1 with a `MinMaxScaler`: \n",
    "\n",
    "$$\\textrm{scaled_value} = \\dfrac{value - min}{max - min}$$\n",
    "\n",
    "where _min_ and _max_ are the minimum and maximum values for the variable.\n",
    "\n",
    "| example # | result | numeric1 | numeric2 | categorical1A | categorical1B |\n",
    "|-----------|--------|----------|----------|---------------|---------------|\n",
    "| 1         | 0      | $$\\frac{1 - 1}{2 - 1} = 0$$ | $$\\frac{2 - 2}{13 - 2} = 0$$ | 1             | 0             | \n",
    "| 2         | 0      | $$\\frac{2 - 1}{2 - 1} = 1$$ | $$\\frac{2 - 2}{13 - 2} = 0$$ | 1             | 0             | \n",
    "| 3         | 1      | $$\\frac{1 - 1}{2 - 1} = 0$$ | $$\\dfrac{4 - 2}{13 - 2} = \\dfrac{2}{11}$$ | 0             | 1             | \n",
    "| 4         | 1      | $$\\frac{1 - 1}{2 - 1} = 0$$ | $$\\frac{13 - 2}{13 - 2} = 1$$ | 1             | 0             | \n",
    "\n",
    "\n",
    "### Imputing\n",
    "\n",
    "To take step 3 of the `binning of encoded categorical variables` section listed above a bit further, we explored three transformations of our binning and encoding of categorical variables for the null values. Our first transformation included only two binned values: a low and a high value. \"High\" was listed as the category if the proportion was greater than 0.2. Otherwise the \"low\" was listed (and \"low\" was listed for null values as well). Our second transformation included four binned values with the explicit thresholds listed in step 3 of the `binning of encoded categorical variables` section. Our third transformation included leaving the proportion as it stood and essentially converting the categorical variables to numeric variables. The mean of the proportion was imputed for all null values within each categorical variable. In this third transformation, one-hot encoding was not done as the categorical variables were converted to numeric variables as opposed to binned.\n",
    "\n",
    "For the numeric variables, after the natural log transformation and the scaling of the numeric variables, two different imputing transformations were done. First, the mean of each numeric variable was imputed for all null values. Second, zero was imputed for the null values. All transformations (categorical and numeric) are listed below and were tested within the logistic regression and decision tree algorithms.\n",
    "\n",
    "<br>\n",
    "\n",
    "## Logistic Regression Algorithm Explanation\n",
    "\n",
    "_Logistic regression_ is a method to calculate the probability of a binary result (where the values are 1s or 0s) given some initial values.  We calculate logistic regression in terms of \"odds\": the probability that a particular outcome is a success divided by the probability that it is a failure.  In this case, we are using _binomial logistic regression with multiple explanatory variables_ to take the values of the various of _variables_ (often also called _columns_ or _features_) from our dataset about advertisements to predict the odds that the user will \"click through\" on an ad (0 = \"no click\" = \"failure\", 1 = \"click\" = \"success\"). \n",
    "\n",
    "Mathematically:\n",
    "\n",
    "$p(x) = \\sigma(t)= \\dfrac {1}{1+e^{-(\\beta_0 + \\sum_{i=1}^m \\beta_i x_i)}}$ where $t = \\beta_0 + \\beta_1 x$\n",
    "\n",
    "and the log odds:\n",
    "\n",
    "$\\textrm{logit} p(x) = \\ln \\left( \\frac{p(x)}{1 - p(x)} \\right) = \\beta_0 + \\sum_{i=1}^m \\beta_i x_i$ and $\\dfrac{p(x)}{1 - p(x)} = e^{(\\beta_0 + \\sum_{i=1}^m \\beta_i x_i)}$\n",
    "\n",
    "\n",
    "### Stochastic gradient descent:\n",
    "\n",
    "We use gradient descent (assumed this was the type of gradient descent used in our Logistic Regression ml models), where we start at some initial coefficients and calculate initial predictions, then use the errors in those predictions and a learning rate ($\\alpha$) to calculate new coefficients, and repeat until the errors are small enough (according to a pre-defined convergence criteria) or we reach a pre-defined maximum number of iterations. In particular, we use stochastic gradient descent, where rather than update the coefficients based on prediction errors for all records, we randomly sort the records and then iterate through the records, updating the coefficients with each record.\n",
    "\n",
    "We update the coefficients using the formula:\n",
    "\n",
    "$$ \\beta'_i = \\beta_i + \\alpha \\times (y - prediction) \\times prediction \\times (1 - prediction) \\times x $$\n",
    "\n",
    "Where $\\beta'_i$ is the updated coefficient, $\\beta_i$ is the existing value for the coefficient being updated, $\\alpha$ is the learning_rate, $(y – prediction)$ is the prediction error, $prediction$ is the $p(success)$ prediction for the record, and $x$ is the value of the variable corresponding to $\\beta_i$ for the current record.\n",
    "\n",
    "\n",
    "### Formulas for calculating logistic regression with our toy dataset:\n",
    "\n",
    "$$\\textrm{logit} p(x) = t = \\beta_0 + \\sum_{i=1}^m \\beta_i x_i = \\beta_0 + \\beta_1 numeric1 + \\beta_2 numeric2 + \\beta_3 categorical1A + \\beta_4 categorical1B$$\n",
    "\n",
    "so\n",
    "\n",
    "$$p(success) = \\dfrac {1}{1+e^{-(t)}} = \\dfrac {1}{1+e^{-(\\beta_0 + \\beta_1 numeric1 + \\beta_2 numeric2 + \\beta_3 categorical1A + \\beta_4 categorical1B)}}$$\n",
    "\n",
    "\n",
    "### Calculating logistic regression with our toy dataset:\n",
    "\n",
    "For this toy dataset, we will start with initial coefficients $\\beta_0 = \\beta_1 = \\beta_2 = \\beta_3 = \\beta_4 = 1$ and $\\alpha = 0.5$\n",
    "\n",
    "For each epoch iterating through all examples, the algorithm randomizes the order of the records. To keep this explanation simple, we will assume that we got \"lucky\" and the $\\frac{1}{4!}$ = 1 in 24 chance happened: our ordering in our first epoch is 1, 2, 3, 4:\n",
    "\n",
    "| example # | y | $t = \\beta_0 + \\sum_{i=1}^m \\beta_i x_i$ | $p(success) = \\dfrac {1}{1+e^{-(t)}}$ | $\\alpha \\times (y - prediction) \\times prediction \\times (1 - prediction)$ | $\\beta'_0$ | $\\beta'_1$ | $\\beta'_2$ | $\\beta'_3$ | $\\beta'_4$\n",
    "|-----------|---|-----------------------------------------------------------------------|------------|-|-|-|-|-|-|\n",
    "| 1 | 0 | $1 + (1 \\times 0) + (1 \\times 0) + (1 \\times 1) + (1 \\times 0) = 2$ | 0.88 | -0.05 | 0.95 | 1 | 1 | 0.95 | 1 | \n",
    "| 2 | 0 | $0.95 + (1 \\times 1) + (1 \\times 0) + (0.95 \\times 1) + (1 \\times 0) = 2.91$ | 0.95 | -0.02 | 0.93 | 0.98 | 1 | 0.93 | 1 | \n",
    "| 3 | 1 | $0.93 + (0.98 \\times 0) + (1 \\times 0.18) + (0.93 \\times 0) + (1 \\times 1) = 2.11$ | 0.89 | 0.01 | 0.94 | 0.98 | 1 | 0.93 | 1.01 | \n",
    "| 4 | 1 | $0.94 + (0.98 \\times 0) + (1 \\times 1) + (0.93 \\times 1) + (1.01 \\times 0) = 2.87$ | 0.95 | 0 | 0.94 | 0.98 | 1 | 0.93 | 1.01 | \n",
    "\n",
    "At the end of our first epoch: \n",
    "\n",
    "$\\beta_0 = 0.94$, $\\beta_1 = 0.98$, $\\beta_2 = 1$, $\\beta_3 = 0.93$, $\\beta_4 = 1.01$\n",
    "\n",
    "$$\\textrm{logit} p(x) = \\beta_0 + \\sum_{i=1}^m \\beta_i x_i = 0.94 + 0.98 numeric1 + 1 numeric2 + 0.93 categorical1A + 1.01 categorical1B$$\n",
    "\n",
    "The coefficients will continue to update until either convergence or the number of iterations has been reached, which happened in our model below.\n",
    "\n",
    "<br>\n",
    "\n",
    "## Decision Tree Algorithm Explanation\n",
    "\n",
    "Decision trees are one of the most popular machine learning algorithms, mostly for classification. We use them as a secondary classification in our algorithms below along with logistic regression. While we will not go into full detail here on decision trees, we wanted to offer a high-level analysis. CART (classification and regression tree) divides the data in homogenous subsets using binary recursive partitions. The most discriminative variable is first selected as the root node to partition the data set into branch nodes. The partitioning is repeated until the nodes are homogenous enough to be the final nodes which are called leaves. Two popular feature selection measures that split the data are the information gain (based on entropy) and gini index.\n",
    "\n",
    "* Information gain based on entropy - entropy is used to measure the impurity of a dataset and can be defined as follows:\n",
    " + Entropy(x) = $-\\sum(P(x=k)*log_2(P(x=k))$, where $P(x=k)$ is the probability that a target variable takes a specific value $k$.\n",
    " + Based on Entropy, the information gain of a feature can be written as: Information Gain(feature) = Entropy(dataset) - Entropy(feature)\n",
    "* Gini index - gini index is calculated by subtracting the sum of squared probabilities of each class from one:\n",
    " + Gini Index = $1 - \\sum(P(x=k))^2$\n",
    " + Gini creates fewer branches and larger sample splits, while Entropy does the opposite\n",
    "\n",
    "**Resources Referenced:**\n",
    "\n",
    "* [Analytics Vidhya: Building a Logistic Regression model from scratch](https://www.analyticsvidhya.com/blog/2015/10/basics-logistic-regression/)\n",
    "* [Towards Data Science: Understanding Logistic Regression Step-by-Step](https://towardsdatascience.com/understanding-logistic-regression-step-by-step-704a78be7e0a)\n",
    "* [KSEOW Breaking Down Machine Learning: Logistic Regression](http://kseow.com/logisticregression/)\n",
    "* [Wikipedia: Logistic regression](https://en.wikipedia.org/wiki/Logistic_regression)\n",
    "* [Medium: Chapter 3: Decision Trees Algorithm](https://medium.com/deep-math-machine-learning-ai/chapter-4-decision-trees-algorithms-b93975f7a1f1)\n",
    "* [Python Machine Learning Tutorial: Decision Trees](https://www.python-course.eu/Decision_Trees.php)"
   ]
  },
  {
   "cell_type": "markdown",
   "metadata": {},
   "source": [
    "<br>\n",
    "<br>"
   ]
  },
  {
   "cell_type": "markdown",
   "metadata": {},
   "source": [
    "# __Section 3__ - Exploratory Data Analysis & Challenges"
   ]
  },
  {
   "cell_type": "markdown",
   "metadata": {},
   "source": [
    "**<font color='red'>\n",
    "    3. EDA & Discussion of Challenges -- Determine 2-3 relevant EDA tasks that will help you make decisions about how you implement the algorithm to be scalable. Discuss any challenges that you anticipate based on the EDA you perform.\n",
    "</font>**"
   ]
  },
  {
   "cell_type": "markdown",
   "metadata": {},
   "source": [
    "## Setup"
   ]
  },
  {
   "cell_type": "code",
   "execution_count": 1,
   "metadata": {},
   "outputs": [],
   "source": [
    "# imports\n",
    "import re\n",
    "import ast\n",
    "import time\n",
    "import shutil\n",
    "import os\n",
    "import copy\n",
    "import numpy as np\n",
    "import seaborn as sns\n",
    "import networkx as nx\n",
    "import matplotlib.pyplot as plt\n",
    "from IPython.display import display\n",
    "\n",
    "from pyspark.sql import Window, Row\n",
    "from pyspark.sql.functions import col, desc, mean, isnan, when, count, isnull, rank, sum, countDistinct, avg, stddev, round, lit, rand, broadcast, udf, log, monotonically_increasing_id\n",
    "from pyspark.sql.types import LongType, IntegerType, StringType, DoubleType, ArrayType, FloatType\n",
    "from pyspark.sql.window import Window\n",
    "\n",
    "from pyspark.ml import Pipeline\n",
    "from pyspark.ml.feature import StringIndexer, OneHotEncoder, OneHotEncoderEstimator, VectorAssembler, MinMaxScaler, Imputer\n",
    "from pyspark.ml.stat import Correlation\n",
    "from pyspark.mllib.stat import Statistics\n",
    "\n",
    "from pyspark.ml.linalg import Vectors\n",
    "from pyspark.ml.classification import LogisticRegression, DecisionTreeClassifier\n",
    "from pyspark.ml.evaluation import MulticlassClassificationEvaluator\n",
    "from pyspark.ml.tuning import CrossValidator, ParamGridBuilder\n",
    "\n",
    "import warnings\n",
    "warnings.filterwarnings('ignore')"
   ]
  },
  {
   "cell_type": "code",
   "execution_count": 2,
   "metadata": {},
   "outputs": [],
   "source": [
    "%reload_ext autoreload\n",
    "%autoreload 2"
   ]
  },
  {
   "cell_type": "code",
   "execution_count": 3,
   "metadata": {},
   "outputs": [],
   "source": [
    "# store path to notebook\n",
    "PWD = !pwd\n",
    "PWD = PWD[0]"
   ]
  },
  {
   "cell_type": "code",
   "execution_count": 4,
   "metadata": {},
   "outputs": [
    {
     "data": {
      "text/html": [
       "\n",
       "            <div>\n",
       "                <p><b>SparkSession - in-memory</b></p>\n",
       "                \n",
       "        <div>\n",
       "            <p><b>SparkContext</b></p>\n",
       "\n",
       "            <p><a href=\"http://docker.w261:4040\">Spark UI</a></p>\n",
       "\n",
       "            <dl>\n",
       "              <dt>Version</dt>\n",
       "                <dd><code>v2.4.4</code></dd>\n",
       "              <dt>Master</dt>\n",
       "                <dd><code>local[*]</code></dd>\n",
       "              <dt>AppName</dt>\n",
       "                <dd><code>final_project</code></dd>\n",
       "            </dl>\n",
       "        </div>\n",
       "        \n",
       "            </div>\n",
       "        "
      ],
      "text/plain": [
       "<pyspark.sql.session.SparkSession at 0x7fe029f3cb10>"
      ]
     },
     "execution_count": 4,
     "metadata": {},
     "output_type": "execute_result"
    }
   ],
   "source": [
    "# start Spark Session\n",
    "from pyspark.sql import SparkSession\n",
    "app_name = \"final_project\"\n",
    "master = \"local[*]\"\n",
    "spark = SparkSession\\\n",
    "        .builder\\\n",
    "        .appName(app_name)\\\n",
    "        .master(master)\\\n",
    "        .getOrCreate()\n",
    "sc = spark.sparkContext\n",
    "spark"
   ]
  },
  {
   "cell_type": "code",
   "execution_count": 5,
   "metadata": {},
   "outputs": [],
   "source": [
    "sc = spark.sparkContext"
   ]
  },
  {
   "cell_type": "markdown",
   "metadata": {},
   "source": [
    "In a separate file `Step_1_load_txt_convert_to_parquet.ipynb` we created toy datasets and made parquet versions of each of these files as they are much easier and faster to work with. This work is in a separate file, and we are bringing all dataframes into this file below."
   ]
  },
  {
   "cell_type": "code",
   "execution_count": 6,
   "metadata": {},
   "outputs": [
    {
     "name": "stdout",
     "output_type": "stream",
     "text": [
      "... completed job in 4.082287788391113 seconds.\n"
     ]
    }
   ],
   "source": [
    "# reading in parquet files\n",
    "start = time.time()\n",
    "train_1_million_df = spark.read.parquet(\"data/train_1_million.parquet\")\n",
    "train_100000_df    = spark.read.parquet(\"data/train_100000.parquet\")\n",
    "train_10000_df     = spark.read.parquet(\"data/train_10000.parquet\")\n",
    "train_1000_df      = spark.read.parquet(\"data/train_1000.parquet\")\n",
    "print(f'... completed job in {time.time() - start} seconds.')"
   ]
  },
  {
   "cell_type": "markdown",
   "metadata": {},
   "source": [
    "For out EDA in this section and our algorithm implementation in section 4, we will use the `train_1000_df` dataset for ease and convenience. This dataset should give us a good sense of the data and the best performing algorithms. "
   ]
  },
  {
   "cell_type": "code",
   "execution_count": 7,
   "metadata": {},
   "outputs": [],
   "source": [
    "df = train_1_million_df"
   ]
  },
  {
   "cell_type": "markdown",
   "metadata": {},
   "source": [
    "<br>\n",
    "<br>"
   ]
  },
  {
   "cell_type": "markdown",
   "metadata": {},
   "source": [
    "## Exploratory Data Analysis - Numeric Data"
   ]
  },
  {
   "cell_type": "markdown",
   "metadata": {},
   "source": [
    "In this first EDA section, we are looking at the numeric variable summary statistics. These include the total count of non-null values, the mean, standard deviation, and min and max of the dataset. We also wanted to look at the null counts of each column, the proportion of null counts, and the weighted average of the dependent variable for each integer value."
   ]
  },
  {
   "cell_type": "code",
   "execution_count": 8,
   "metadata": {},
   "outputs": [
    {
     "name": "stdout",
     "output_type": "stream",
     "text": [
      "Statistics of Numerical Columns 0 - 6:\n",
      "+-------+-----------------+-----------------+------------------+------------------+-----------------+------------------+------------------+\n",
      "|summary|              _c0|              _c1|               _c2|               _c3|              _c4|               _c5|               _c6|\n",
      "+-------+-----------------+-----------------+------------------+------------------+-----------------+------------------+------------------+\n",
      "|  count|           763440|           417846|            763440|            599372|           597838|            743669|            593074|\n",
      "|   mean|0.255633710573195| 3.47696759093063|105.64915775961438|26.501715128501164|7.313029616718911|18469.450863220063|116.07413408782041|\n",
      "| stddev|0.436217108604287|9.083242912809306| 389.5517776722579|368.56950176474453|8.863170850448387| 68925.85630607713| 338.4869605487971|\n",
      "|    min|                0|                0|                -2|                 0|                0|                 0|                 0|\n",
      "|    max|                1|              816|             14482|             65535|              683|           2512370|             39949|\n",
      "+-------+-----------------+-----------------+------------------+------------------+-----------------+------------------+------------------+\n",
      "\n",
      "Statistics of Numerical Columns 7 - 14:\n",
      "+-------+-----------------+------------------+------------------+------------------+-----------------+------------------+-----------------+\n",
      "|summary|              _c7|               _c8|               _c9|              _c10|             _c11|              _c12|             _c13|\n",
      "+-------+-----------------+------------------+------------------+------------------+-----------------+------------------+-----------------+\n",
      "|  count|           730424|            763032|            730424|            417846|           730424|            179179|           597838|\n",
      "|   mean|16.29806660241175|12.525958282221453|106.15306589049648|0.6156933415660315| 2.73564943101541|0.9905904151714208|8.215431270678678|\n",
      "| stddev|65.55483418306201|17.811476307433985|218.24765793835553|0.6832742315370688|5.195624660485614| 6.010163834157934|16.70095351160147|\n",
      "|    min|                0|                 0|                 0|                 0|                0|                 0|                0|\n",
      "|    max|            14110|              4379|             10311|                 8|              134|              1260|             4120|\n",
      "+-------+-----------------+------------------+------------------+------------------+-----------------+------------------+-----------------+\n",
      "\n",
      "Null Counts of Each Numeric Column:\n",
      "+------+---+------+------+-----+------+-----+---+-----+------+-----+------+------+\n",
      "|   _c1|_c2|   _c3|   _c4|  _c5|   _c6|  _c7|_c8|  _c9|  _c10| _c11|  _c12|  _c13|\n",
      "+------+---+------+------+-----+------+-----+---+-----+------+-----+------+------+\n",
      "|345594|  0|164068|165602|19771|170366|33016|408|33016|345594|33016|584261|165602|\n",
      "+------+---+------+------+-----+------+-----+---+-----+------+-----+------+------+\n",
      "\n",
      "Proportion of Null Counts of Each Numeric Column:\n",
      "+------+---+------+------+------+------+------+------+------+------+------+------+------+\n",
      "|   _c1|_c2|   _c3|   _c4|   _c5|   _c6|   _c7|   _c8|   _c9|  _c10|  _c11|  _c12|  _c13|\n",
      "+------+---+------+------+------+------+------+------+------+------+------+------+------+\n",
      "|0.4527|0.0|0.2149|0.2169|0.0259|0.2232|0.0432|5.0E-4|0.0432|0.4527|0.0432|0.7653|0.2169|\n",
      "+------+---+------+------+------+------+------+------+------+------+------+------+------+\n",
      "\n",
      "Weighted Average of Each Integer Value:\n",
      "+------+------+------+------+------+------+------+------+-----+------+------+------+------+\n",
      "|   _c1|   _c2|   _c3|   _c4|   _c5|   _c6|   _c7|   _c8|  _c9|  _c10|  _c11|  _c12|  _c13|\n",
      "+------+------+------+------+------+------+------+------+-----+------+------+------+------+\n",
      "|0.4255|0.3277|0.3263|0.2198|0.1288|0.1642|0.4074|0.2393|0.278|0.4031|0.3901|0.5111|0.1797|\n",
      "+------+------+------+------+------+------+------+------+-----+------+------+------+------+\n",
      "\n",
      "... completed job in 11.775726079940796 seconds.\n"
     ]
    }
   ],
   "source": [
    "start = time.time()\n",
    "total_count = df.count()\n",
    "\n",
    "print(\"Statistics of Numerical Columns 0 - 6:\")\n",
    "df.describe(df.columns[:7]).show()\n",
    "\n",
    "print(\"Statistics of Numerical Columns 7 - 14:\")\n",
    "df.describe(df.columns[7:14]).show()\n",
    "\n",
    "print(\"Null Counts of Each Numeric Column:\")\n",
    "df.select([count(when(isnull(c), c)).alias(c) for c in df.columns[1:14]]).show()\n",
    "\n",
    "print(\"Proportion of Null Counts of Each Numeric Column:\")\n",
    "df.select([(round((1/total_count)*count(when(isnan(c) | col(c).isNull(), c)),4)).alias(c).alias(c) for c in df.columns[1:14]]).show()\n",
    "\n",
    "print (\"Weighted Average of Each Integer Value:\")\n",
    "df.select([round(sum(df['_c0'] * df[i])/sum(df[i]),4).alias(i) for i in df.columns[1:14]]).show()\n",
    "\n",
    "print(f'... completed job in {time.time() - start} seconds.')"
   ]
  },
  {
   "cell_type": "markdown",
   "metadata": {},
   "source": [
    "From the descriptive statistics above, we see that the scale of each variable is extremely inconsistent. Some variables have a mean less than 1, while others have a mean over 100 (and one has a mean over 18,000). These findings were what led us to believe that normalization of the data would be helpful during our modeling phase. This normalization was also described in the algorithm theory. \n",
    "\n",
    "We also notice that several variables have high null counts within the dataset. For instance, `_c12` has over 75% of the data missing, and `_c1` and `_c10` have over 40% of the data missing. We knew that we would have to take care of these nulls, and we used two different imputing strategies; we imputed the mean of the remainder of the column and imputed zero for the null values. Both strategies are also discussed in the algorithm theory. These two different strategies are depicted in our `Step_2_Feature_engineering_selection.ipynb` file to save space within this one. Removing certain variables with high a high null count may be adding additional noise to the dataset and not helping at all. If we had more time, we would have looked at removing these variables within our models below in section 4.\n",
    "\n",
    "Next, we wanted to focus on the shape of the numeric variable distributions. We plotted the normal distribution of each histogram and then the log transformed version of each variable as well."
   ]
  },
  {
   "cell_type": "code",
   "execution_count": 9,
   "metadata": {},
   "outputs": [
    {
     "name": "stdout",
     "output_type": "stream",
     "text": [
      "Numeric Variable Histograms:\n",
      "... completed job in 43.58154845237732 seconds.\n"
     ]
    },
    {
     "data": {
      "image/png": "[encoded data removed]",
      "text/plain": [
       "<Figure size 432x324 with 14 Axes>"
      ]
     },
     "metadata": {},
     "output_type": "display_data"
    }
   ],
   "source": [
    "start = time.time()\n",
    "\n",
    "print(\"Numeric Variable Histograms:\")\n",
    "\n",
    "size = np.ceil(np.sqrt(len(df.columns[:14])))\n",
    "fig = plt.figure(figsize=(6,4.5))\n",
    "fig.subplots_adjust(left=0, right=2, bottom=0, top=2.5, hspace=0.3)\n",
    "\n",
    "for c, i in enumerate(df.columns[:14]):\n",
    "    ax = fig.add_subplot(size, size, c + 1)\n",
    "    bins, counts = df.select(i).rdd.flatMap(lambda x: x).histogram(15)\n",
    "    ax.hist(bins[:-1], bins=bins, weights=counts)\n",
    "    ax.set_title(df.columns[c])\n",
    "    \n",
    "print(f'... completed job in {time.time() - start} seconds.')"
   ]
  },
  {
   "cell_type": "code",
   "execution_count": 10,
   "metadata": {},
   "outputs": [
    {
     "name": "stdout",
     "output_type": "stream",
     "text": [
      "Numeric Variable Histogram Log Transformations:\n",
      "... completed job in 40.96292471885681 seconds.\n"
     ]
    },
    {
     "data": {
      "image/png": "[encoded data removed]",
      "text/plain": [
       "<Figure size 432x324 with 13 Axes>"
      ]
     },
     "metadata": {},
     "output_type": "display_data"
    }
   ],
   "source": [
    "start = time.time()\n",
    "\n",
    "print(\"Numeric Variable Histogram Log Transformations:\")\n",
    "\n",
    "# taking the natural log\n",
    "log_df = df.select(*(log(col(i) + 1).alias(i+\"_log\") for i in df.columns[1:14]))\n",
    "\n",
    "size = np.ceil(np.sqrt(len(log_df.columns)))\n",
    "fig = plt.figure(figsize=(6,4.5))\n",
    "fig.subplots_adjust(left=0, right=2, bottom=0, top=2.5, hspace=0.3)\n",
    "\n",
    "for c, i in enumerate(log_df.columns):\n",
    "    ax = fig.add_subplot(size, size, c + 1)\n",
    "    bins, counts = log_df.select(i).rdd.flatMap(lambda x: x).histogram(15)\n",
    "    ax.hist(bins[:-1], bins=bins, weights=counts)\n",
    "    ax.set_title(log_df.columns[c])\n",
    "    \n",
    "print(f'... completed job in {time.time() - start} seconds.')"
   ]
  },
  {
   "cell_type": "markdown",
   "metadata": {},
   "source": [
    "The log transformed versions of the histogram appear to have more normal distributions on average than the normal versions of the histograms without any transformations. All variables seemed to be at least slightly improved with a log distribution, and variables `_c6`, and `_c9` have very uniform distributions with the log transformation. Variables, such as `_c12` with many null values still show a right-skewed distribution, but we know that improving the distribution of this variable would be quite difficult given the limited amount of data. The log transformations of the data is discussed within our algorithm theory and can also be observed in the `Step_2_Feature_engineering_selection.ipynb` file.\n",
    "\n",
    "Next, we will investigate a correlation matrix to understand the relationships between the numeric variables. We will impute the mean for all null values at this time to evaluate the potential correlations amongst the variables."
   ]
  },
  {
   "cell_type": "markdown",
   "metadata": {},
   "source": [
    "<br>"
   ]
  },
  {
   "cell_type": "markdown",
   "metadata": {},
   "source": [
    "### Correlation Matrix"
   ]
  },
  {
   "cell_type": "code",
   "execution_count": 11,
   "metadata": {},
   "outputs": [],
   "source": [
    "# getting just a numeric df\n",
    "df_for_corr = df.select(df.columns[1:14])"
   ]
  },
  {
   "cell_type": "code",
   "execution_count": 12,
   "metadata": {},
   "outputs": [],
   "source": [
    "# making all columns floats\n",
    "df_for_corr = df_for_corr.select(*(col(i).cast(\"float\").alias(i) for i in df_for_corr.columns))"
   ]
  },
  {
   "cell_type": "code",
   "execution_count": 13,
   "metadata": {},
   "outputs": [],
   "source": [
    "# imputing the mean for the null values\n",
    "imputer = Imputer(strategy = \"mean\", inputCols = df_for_corr.columns, \n",
    "                  outputCols = [\"{}_mean\".format(i) for i in df_for_corr.columns])\n",
    "df_for_corr_mean = imputer.fit(df_for_corr).transform(df_for_corr)"
   ]
  },
  {
   "cell_type": "code",
   "execution_count": 14,
   "metadata": {},
   "outputs": [],
   "source": [
    "# only keeping the new columns\n",
    "df_for_corr_mean = df_for_corr_mean.select(df_for_corr_mean.columns[13:])"
   ]
  },
  {
   "cell_type": "code",
   "execution_count": 15,
   "metadata": {},
   "outputs": [
    {
     "name": "stdout",
     "output_type": "stream",
     "text": [
      "... completed job in 11.697801351547241 seconds.\n"
     ]
    }
   ],
   "source": [
    "start = time.time()\n",
    "\n",
    "# correlation matrix creation\n",
    "all_columns = df_for_corr_mean.rdd.map(lambda row: row[0:])\n",
    "corr_mat = Statistics.corr(all_columns, method = \"pearson\")\n",
    "\n",
    "print(f'... completed job in {time.time() - start} seconds.')"
   ]
  },
  {
   "cell_type": "code",
   "execution_count": 16,
   "metadata": {},
   "outputs": [
    {
     "name": "stdout",
     "output_type": "stream",
     "text": [
      "... completed job in 0.08914947509765625 seconds.\n"
     ]
    }
   ],
   "source": [
    "start = time.time()\n",
    "\n",
    "# getting the correlation matrix back into a df with the proper column names\n",
    "corr_rdd = sc.parallelize(corr_mat)\n",
    "\n",
    "col_list = []\n",
    "for i in df_for_corr_mean.columns:\n",
    "    col_list.append(i)\n",
    "    \n",
    "col_str = ', '.join(col_list)\n",
    "corr_df = corr_rdd.map(lambda x: x.tolist()).toDF(col_list)\n",
    "\n",
    "print(f'... completed job in {time.time() - start} seconds.')"
   ]
  },
  {
   "cell_type": "code",
   "execution_count": 17,
   "metadata": {},
   "outputs": [
    {
     "name": "stdout",
     "output_type": "stream",
     "text": [
      "Correlation Matrix with Imputed Mean for all Numerical Columns:\n",
      "+--------+--------+--------+--------+--------+--------+---------+---------+---------+--------+--------+---------+--------+\n",
      "|_c2_mean|_c4_mean|_c8_mean|_c6_mean|_c1_mean|_c5_mean|_c12_mean|_c10_mean|_c13_mean|_c3_mean|_c9_mean|_c11_mean|_c7_mean|\n",
      "+--------+--------+--------+--------+--------+--------+---------+---------+---------+--------+--------+---------+--------+\n",
      "|     1.0|   -0.09|   -0.03|   -0.02|    0.03|   -0.01|      0.0|     0.03|    -0.04|   -0.01|   -0.01|     0.03|    0.02|\n",
      "|   -0.09|     1.0|    0.47|     0.0|    0.04|   -0.07|     0.01|     0.06|     0.61|    0.04|    0.17|     0.04|    0.02|\n",
      "|   -0.03|    0.47|     1.0|    0.01|    0.04|   -0.11|     0.01|     0.05|     0.67|    0.04|     0.2|     0.12|    0.07|\n",
      "|   -0.02|     0.0|    0.01|     1.0|   -0.07|    0.05|    -0.02|    -0.17|     0.05|     0.0|    0.18|    -0.09|   -0.05|\n",
      "|    0.03|    0.04|    0.04|   -0.07|     1.0|   -0.01|     0.07|     0.42|    -0.02|    0.04|    0.03|     0.24|    0.43|\n",
      "|   -0.01|   -0.07|   -0.11|    0.05|   -0.01|     1.0|    -0.01|    -0.02|    -0.04|     0.0|   -0.05|     -0.1|   -0.05|\n",
      "|     0.0|    0.01|    0.01|   -0.02|    0.07|   -0.01|      1.0|     0.05|    -0.01|     0.0|    0.02|     0.06|    0.08|\n",
      "|    0.03|    0.06|    0.05|   -0.17|    0.42|   -0.02|     0.05|      1.0|    -0.04|   -0.01|   -0.02|     0.28|     0.2|\n",
      "|   -0.04|    0.61|    0.67|    0.05|   -0.02|   -0.04|    -0.01|    -0.04|      1.0|    0.03|    0.18|    -0.01|   -0.01|\n",
      "|   -0.01|    0.04|    0.04|     0.0|    0.04|     0.0|      0.0|    -0.01|     0.03|     1.0|     0.0|    -0.01|     0.0|\n",
      "|   -0.01|    0.17|     0.2|    0.18|    0.03|   -0.05|     0.02|    -0.02|     0.18|     0.0|     1.0|      0.4|    0.23|\n",
      "|    0.03|    0.04|    0.12|   -0.09|    0.24|    -0.1|     0.06|     0.28|    -0.01|   -0.01|     0.4|      1.0|    0.68|\n",
      "|    0.02|    0.02|    0.07|   -0.05|    0.43|   -0.05|     0.08|      0.2|    -0.01|     0.0|    0.23|     0.68|     1.0|\n",
      "+--------+--------+--------+--------+--------+--------+---------+---------+---------+--------+--------+---------+--------+\n",
      "\n"
     ]
    }
   ],
   "source": [
    "print(\"Correlation Matrix with Imputed Mean for all Numerical Columns:\")\n",
    "corr_df.select([round(i,2).alias(i) for i in corr_df.columns]).show()"
   ]
  },
  {
   "cell_type": "markdown",
   "metadata": {},
   "source": [
    "The correlation matrix above suggests that we do not have a large multicollinearity issue amongst the numeric variables; however, we do see some high correlations and clear relationships that could be cause for concern. Variables `_c4` and `_c13` have a correlation of 61% and variables `_c7` and `_c11` have a correlation of 68%. Interestingly, variables `_c4` and `_c13` have the exact same amount of null values as well at ~22% and `_c7` and `_c11` have the exact same amount of null values at ~4%. Given the high correlations and similar percentage of null values between these two sets of variables, a relationship is probable. Variables `_c8` and `_c13` also have a somewhat high correlation at 67%, but they do not have the same amount of null values. If we had more time, we would also investigate removing certain numeric variables with these high correlations in addition to variables with a high percentage of null values."
   ]
  },
  {
   "cell_type": "markdown",
   "metadata": {},
   "source": [
    "<br>"
   ]
  },
  {
   "cell_type": "markdown",
   "metadata": {},
   "source": [
    "## Exploratory Data Analysis - Categorical Data"
   ]
  },
  {
   "cell_type": "markdown",
   "metadata": {},
   "source": [
    "In this second large EDA section, we are looking at the categorical variables. We wanted to start out with the summary statistics here too with looking at the distinct counts per category and then the proportion of nulls within each category."
   ]
  },
  {
   "cell_type": "code",
   "execution_count": 18,
   "metadata": {},
   "outputs": [
    {
     "name": "stdout",
     "output_type": "stream",
     "text": [
      "Distinct Counts per Category:\n",
      "+----+----+------+------+----+----+-----+----+----+-----+----+------+----+----+----+------+----+----+----+----+------+----+----+-----+----+-----+\n",
      "|_c14|_c15|  _c16|  _c17|_c18|_c19| _c20|_c21|_c22| _c23|_c24|  _c25|_c26|_c27|_c28|  _c29|_c30|_c31|_c32|_c33|  _c34|_c35|_c36| _c37|_c38| _c39|\n",
      "+----+----+------+------+----+----+-----+----+----+-----+----+------+----+----+----+------+----+----+----+----+------+----+----+-----+----+-----+\n",
      "|1188| 549|284917|115407| 259|  16|10951| 523|   3|28805|4828|254427|3145|  27|8985|196549|  10|3899|1785|   3|230184|  13|  14|38695|  68|28259|\n",
      "+----+----+------+------+----+----+-----+----+----+-----+----+------+----+----+----+------+----+----+----+----+------+----+----+-----+----+-----+\n",
      "\n",
      "Proportion of Nulls of Each Category:\n",
      "+----+----+-----+-----+----+-----+----+----+----+----+----+-----+----+----+----+-----+----+----+-----+-----+-----+-----+----+-----+-----+-----+\n",
      "|_c14|_c15| _c16| _c17|_c18| _c19|_c20|_c21|_c22|_c23|_c24| _c25|_c26|_c27|_c28| _c29|_c30|_c31| _c32| _c33| _c34| _c35|_c36| _c37| _c38| _c39|\n",
      "+----+----+-----+-----+----+-----+----+----+----+----+----+-----+----+----+----+-----+----+----+-----+-----+-----+-----+----+-----+-----+-----+\n",
      "| 0.0| 0.0|0.034|0.034| 0.0|0.121| 0.0| 0.0| 0.0| 0.0| 0.0|0.034| 0.0| 0.0| 0.0|0.034| 0.0| 0.0|0.441|0.441|0.034|0.762| 0.0|0.034|0.441|0.441|\n",
      "+----+----+-----+-----+----+-----+----+----+----+----+----+-----+----+----+----+-----+----+----+-----+-----+-----+-----+----+-----+-----+-----+\n",
      "\n",
      "... completed job in 41.39563345909119 seconds.\n"
     ]
    }
   ],
   "source": [
    "start = time.time()\n",
    "print(\"Distinct Counts per Category:\")\n",
    "df.select([countDistinct(i).alias(i) for i in df.columns[14:]]).show()\n",
    "\n",
    "print(\"Proportion of Nulls of Each Category:\")\n",
    "df.select([(round((1/total_count)*count(when(isnan(c) | col(c).isNull(), c)),3)).alias(c).alias(c) for c in df.columns[14:]]).show()\n",
    "print(f'... completed job in {time.time() - start} seconds.')"
   ]
  },
  {
   "cell_type": "markdown",
   "metadata": {},
   "source": [
    "The categorical variables have a wide range when it comes to their distinct counts of values, which can be observed above. Several variables have over 10K different values (on a toy training dataset of 100K), and other variables, like `_c22` have extremely few categories (only three within our toy training dataset). The distinct values per category numbers will likely change and get larger as we move to a larger dataset, but these relative benchmark numbers are helpful for us to keep in mind as we transform our categorical variables. Variables `_c32`, `_c33`, `_c38`, and `_c39` all have the same proportion of null values at 0.442, which speaks to the fact that there may be a relationship between these variables. These variables along with `c35` all have more than 40% of their values as null, suggesting that we could binarize these variables in some way or investigate these categories further if we had more time.\n",
    "\n",
    "Next, we looked at the top 20 values of each categorical variable to see what percentage of the variable (including the null values) they represented."
   ]
  },
  {
   "cell_type": "code",
   "execution_count": 19,
   "metadata": {},
   "outputs": [
    {
     "name": "stdout",
     "output_type": "stream",
     "text": [
      "Counts and Percentages of Total DF for Each Category:\n",
      "+--------+------+------+-------+\n",
      "|    _c14| count| total|percent|\n",
      "+--------+------+------+-------+\n",
      "|05db9164|382197|763440| 0.5006|\n",
      "|68fd1e64|127538|763440| 0.1671|\n",
      "|5a9ed9b0| 63529|763440| 0.0832|\n",
      "|8cf07265| 37859|763440| 0.0496|\n",
      "|be589b51| 25170|763440|  0.033|\n",
      "|5bfa8ab5| 18339|763440|  0.024|\n",
      "|87552397| 13712|763440|  0.018|\n",
      "|f473b8dc| 10796|763440| 0.0141|\n",
      "|39af2607|  8360|763440|  0.011|\n",
      "|ae82ea21|  6843|763440|  0.009|\n",
      "|9a89b36c|  5843|763440| 0.0077|\n",
      "|17f69355|  4875|763440| 0.0064|\n",
      "|241546e0|  4063|763440| 0.0053|\n",
      "|09ca0b81|  3584|763440| 0.0047|\n",
      "|75ac2fe6|  3108|763440| 0.0041|\n",
      "|41edac3d|  2794|763440| 0.0037|\n",
      "|439a44a4|  2544|763440| 0.0033|\n",
      "|7e5c2ff4|  2324|763440|  0.003|\n",
      "|b455c6d7|  1956|763440| 0.0026|\n",
      "|1464facd|  1802|763440| 0.0024|\n",
      "+--------+------+------+-------+\n",
      "only showing top 20 rows\n",
      "\n",
      "+--------+-----+------+-------+\n",
      "|    _c15|count| total|percent|\n",
      "+--------+-----+------+-------+\n",
      "|38a947a1|87515|763440| 0.1146|\n",
      "|207b2d81|33135|763440| 0.0434|\n",
      "|38d50e09|29234|763440| 0.0383|\n",
      "|1cfdf714|27869|763440| 0.0365|\n",
      "|287130e0|26903|763440| 0.0352|\n",
      "|4f25e98b|24765|763440| 0.0324|\n",
      "|09e68b86|23885|763440| 0.0313|\n",
      "|421b43cd|20134|763440| 0.0264|\n",
      "|58e67aaf|18139|763440| 0.0238|\n",
      "|80e26c9b|17349|763440| 0.0227|\n",
      "|89ddfee8|15553|763440| 0.0204|\n",
      "|08d6d899|13718|763440|  0.018|\n",
      "|2c16a946|12983|763440|  0.017|\n",
      "|95e2d337|12513|763440| 0.0164|\n",
      "|04e09220|11500|763440| 0.0151|\n",
      "|f0cf0024|11405|763440| 0.0149|\n",
      "|0468d672| 9529|763440| 0.0125|\n",
      "|a796837e| 9525|763440| 0.0125|\n",
      "|e112a9de| 8093|763440| 0.0106|\n",
      "|6887a43c| 7453|763440| 0.0098|\n",
      "+--------+-----+------+-------+\n",
      "only showing top 20 rows\n",
      "\n",
      "+--------+-----+------+-------+\n",
      "|    _c16|count| total|percent|\n",
      "+--------+-----+------+-------+\n",
      "|    null|26239|763440| 0.0344|\n",
      "|d032c263|19155|763440| 0.0251|\n",
      "|02cf9876| 8336|763440| 0.0109|\n",
      "|aa8c1539| 7502|763440| 0.0098|\n",
      "|9143c832| 7344|763440| 0.0096|\n",
      "|77f2f2e5| 6610|763440| 0.0087|\n",
      "|b00d1501| 6288|763440| 0.0082|\n",
      "|b009d929| 6057|763440| 0.0079|\n",
      "|b1ecc6c4| 5769|763440| 0.0076|\n",
      "|6f67f7e5| 5626|763440| 0.0074|\n",
      "|74e1a23a| 5569|763440| 0.0073|\n",
      "|7da86e4b| 5295|763440| 0.0069|\n",
      "|4470baf4| 4495|763440| 0.0059|\n",
      "|2cbec47f| 3980|763440| 0.0052|\n",
      "|5037b88e| 3610|763440| 0.0047|\n",
      "|ad4b77ff| 3082|763440|  0.004|\n",
      "|08de7b18| 2676|763440| 0.0035|\n",
      "|c86b2d8d| 2669|763440| 0.0035|\n",
      "|42db3232| 2574|763440| 0.0034|\n",
      "|9b792af9| 2530|763440| 0.0033|\n",
      "+--------+-----+------+-------+\n",
      "only showing top 20 rows\n",
      "\n",
      "+--------+-----+------+-------+\n",
      "|    _c17|count| total|percent|\n",
      "+--------+-----+------+-------+\n",
      "|c18be181|27494|763440|  0.036|\n",
      "|    null|26239|763440| 0.0344|\n",
      "|29998ed1|16669|763440| 0.0218|\n",
      "|d16679b9|16253|763440| 0.0213|\n",
      "|85dd697c|14689|763440| 0.0192|\n",
      "|13508380|14277|763440| 0.0187|\n",
      "|f922efad|11606|763440| 0.0152|\n",
      "|f56b7dd5| 7344|763440| 0.0096|\n",
      "|6a14f9b9| 6898|763440|  0.009|\n",
      "|c7043c4b| 6075|763440|  0.008|\n",
      "|5dff9b29| 5899|763440| 0.0077|\n",
      "|41274cd7| 5626|763440| 0.0074|\n",
      "|9a6888fb| 5569|763440| 0.0073|\n",
      "|b733e495| 5296|763440| 0.0069|\n",
      "|8c8a4c47| 4517|763440| 0.0059|\n",
      "|22504558| 4339|763440| 0.0057|\n",
      "|3e2bfbda| 4034|763440| 0.0053|\n",
      "|7031bb66| 3698|763440| 0.0048|\n",
      "|9dde01fd| 3610|763440| 0.0047|\n",
      "|657dc3b9| 3605|763440| 0.0047|\n",
      "+--------+-----+------+-------+\n",
      "only showing top 20 rows\n",
      "\n",
      "+--------+------+------+-------+\n",
      "|    _c18| count| total|percent|\n",
      "+--------+------+------+-------+\n",
      "|25c83c98|513460|763440| 0.6726|\n",
      "|4cf72387|119095|763440|  0.156|\n",
      "|43b19349| 48236|763440| 0.0632|\n",
      "|384874ce| 24802|763440| 0.0325|\n",
      "|30903e74| 14587|763440| 0.0191|\n",
      "|0942e0a7|  9592|763440| 0.0126|\n",
      "|f281d2a7|  6501|763440| 0.0085|\n",
      "|b0530c50|  4494|763440| 0.0059|\n",
      "|b2241560|  3558|763440| 0.0047|\n",
      "|f3474129|  2690|763440| 0.0035|\n",
      "|307e775a|  2028|763440| 0.0027|\n",
      "|5a3e1872|  1744|763440| 0.0023|\n",
      "|2c6b8ded|  1464|763440| 0.0019|\n",
      "|89ff5705|  1179|763440| 0.0015|\n",
      "|b706ee81|   946|763440| 0.0012|\n",
      "|f1d40cbe|   865|763440| 0.0011|\n",
      "|65be028e|   731|763440|  0.001|\n",
      "|a9411994|   659|763440| 9.0E-4|\n",
      "|bf9f7f48|   507|763440| 7.0E-4|\n",
      "|4ea20c7d|   482|763440| 6.0E-4|\n",
      "+--------+------+------+-------+\n",
      "only showing top 20 rows\n",
      "\n",
      "+--------+------+------+-------+\n",
      "|    _c19| count| total|percent|\n",
      "+--------+------+------+-------+\n",
      "|7e0ccccf|301794|763440| 0.3953|\n",
      "|fbad5c96|166692|763440| 0.2183|\n",
      "|fe6b92e5|142609|763440| 0.1868|\n",
      "|    null| 92035|763440| 0.1206|\n",
      "|13718bbd| 24334|763440| 0.0319|\n",
      "|6f6d9be8| 21558|763440| 0.0282|\n",
      "|3bf701e7| 14153|763440| 0.0185|\n",
      "|e3520422|   119|763440| 2.0E-4|\n",
      "|c05778d5|    66|763440| 1.0E-4|\n",
      "|c76aecf6|    31|763440|    0.0|\n",
      "|f1f2de2d|    28|763440|    0.0|\n",
      "|3c46edb2|     8|763440|    0.0|\n",
      "|fdf16bc4|     5|763440|    0.0|\n",
      "|3bc1ed4d|     4|763440|    0.0|\n",
      "|051f8ea4|     2|763440|    0.0|\n",
      "|ef5a8cc6|     1|763440|    0.0|\n",
      "|fb4fd2a8|     1|763440|    0.0|\n",
      "+--------+------+------+-------+\n",
      "\n",
      "+--------+-----+------+-------+\n",
      "|    _c20|count| total|percent|\n",
      "+--------+-----+------+-------+\n",
      "|1c86e0eb|15825|763440| 0.0207|\n",
      "|dc7659bd| 9487|763440| 0.0124|\n",
      "|7195046d| 6834|763440|  0.009|\n",
      "|5e64ce5f| 5917|763440| 0.0078|\n",
      "|468a0854| 5861|763440| 0.0077|\n",
      "|407438c8| 5563|763440| 0.0073|\n",
      "|81bb0302| 5023|763440| 0.0066|\n",
      "|d2dbdfe6| 4553|763440|  0.006|\n",
      "|38eb9cf4| 4288|763440| 0.0056|\n",
      "|90a2c015| 4214|763440| 0.0055|\n",
      "|88002ee1| 4184|763440| 0.0055|\n",
      "|ad3508b1| 3561|763440| 0.0047|\n",
      "|4aa938fc| 3385|763440| 0.0044|\n",
      "|fe4dce68| 3336|763440| 0.0044|\n",
      "|9b98e9fc| 3260|763440| 0.0043|\n",
      "|ce4f7f55| 2991|763440| 0.0039|\n",
      "|ade953a9| 2955|763440| 0.0039|\n",
      "|4b3c7cfe| 2886|763440| 0.0038|\n",
      "|6fb62f1a| 2710|763440| 0.0035|\n",
      "|45e063a0| 2640|763440| 0.0035|\n",
      "+--------+-----+------+-------+\n",
      "only showing top 20 rows\n",
      "\n",
      "+--------+------+------+-------+\n",
      "|    _c21| count| total|percent|\n",
      "+--------+------+------+-------+\n",
      "|0b153874|453667|763440| 0.5942|\n",
      "|5b392875|127349|763440| 0.1668|\n",
      "|1f89b562| 56960|763440| 0.0746|\n",
      "|37e4aa92| 31728|763440| 0.0416|\n",
      "|062b5529| 19722|763440| 0.0258|\n",
      "|51d76abe| 13489|763440| 0.0177|\n",
      "|c8ddd494|  9518|763440| 0.0125|\n",
      "|64523cfa|  7204|763440| 0.0094|\n",
      "|6c41e35e|  5608|763440| 0.0073|\n",
      "|985e3fcb|  4576|763440|  0.006|\n",
      "|25239412|  3631|763440| 0.0048|\n",
      "|a674580f|  2961|763440| 0.0039|\n",
      "|66f29b89|  2491|763440| 0.0033|\n",
      "|f504a6f4|  2173|763440| 0.0028|\n",
      "|a61cc0ef|  1873|763440| 0.0025|\n",
      "|361384ce|  1613|763440| 0.0021|\n",
      "|a25968f2|  1386|763440| 0.0018|\n",
      "|0fb392dd|  1176|763440| 0.0015|\n",
      "|45f7c2dd|  1048|763440| 0.0014|\n",
      "|233428af|   952|763440| 0.0012|\n",
      "+--------+------+------+-------+\n",
      "only showing top 20 rows\n",
      "\n",
      "+--------+------+------+-------+\n",
      "|    _c22| count| total|percent|\n",
      "+--------+------+------+-------+\n",
      "|a73ee510|686345|763440|  0.899|\n",
      "|7cc72ec2| 76975|763440| 0.1008|\n",
      "|a18233ea|   120|763440| 2.0E-4|\n",
      "+--------+------+------+-------+\n",
      "\n",
      "+--------+------+------+-------+\n",
      "|    _c23| count| total|percent|\n",
      "+--------+------+------+-------+\n",
      "|3b08e48b|169641|763440| 0.2222|\n",
      "|efea433b| 11301|763440| 0.0148|\n",
      "|fbbf2c95|  5917|763440| 0.0078|\n",
      "|fa7d0797|  4347|763440| 0.0057|\n",
      "|03e48276|  3942|763440| 0.0052|\n",
      "|451bd4e4|  3858|763440| 0.0051|\n",
      "|5ba575e7|  3414|763440| 0.0045|\n",
      "|5162b19c|  3091|763440|  0.004|\n",
      "|49d1ad89|  3058|763440|  0.004|\n",
      "|935a36f0|  2996|763440| 0.0039|\n",
      "|015ac893|  2894|763440| 0.0038|\n",
      "|f6f942d1|  2843|763440| 0.0037|\n",
      "|711ec2bc|  2784|763440| 0.0036|\n",
      "|305a0646|  2762|763440| 0.0036|\n",
      "|299aecf1|  2641|763440| 0.0035|\n",
      "|31990058|  2551|763440| 0.0033|\n",
      "|000e2f4b|  2158|763440| 0.0028|\n",
      "|67eea4ef|  2118|763440| 0.0028|\n",
      "|6c47047a|  2025|763440| 0.0027|\n",
      "|474773a7|  2006|763440| 0.0026|\n",
      "+--------+------+------+-------+\n",
      "only showing top 20 rows\n",
      "\n",
      "+--------+-----+------+-------+\n",
      "|    _c24|count| total|percent|\n",
      "+--------+-----+------+-------+\n",
      "|755e4a50|24239|763440| 0.0317|\n",
      "|e51ddf94|15977|763440| 0.0209|\n",
      "|7f8ffe57|11429|763440|  0.015|\n",
      "|4d8549da| 9969|763440| 0.0131|\n",
      "|8b94178b| 8361|763440|  0.011|\n",
      "|b7094596| 7139|763440| 0.0094|\n",
      "|7e40f08a| 6677|763440| 0.0087|\n",
      "|a7b606c4| 6016|763440| 0.0079|\n",
      "|5874c9c9| 5825|763440| 0.0076|\n",
      "|ad757a5a| 5576|763440| 0.0073|\n",
      "|1054ae5c| 5541|763440| 0.0073|\n",
      "|434d6c13| 5189|763440| 0.0068|\n",
      "|a60de4e5| 5050|763440| 0.0066|\n",
      "|c4adf918| 4667|763440| 0.0061|\n",
      "|c1ee56d0| 4467|763440| 0.0059|\n",
      "|da89cb9b| 4385|763440| 0.0057|\n",
      "|0f736a0c| 4124|763440| 0.0054|\n",
      "|f1b78ab4| 3886|763440| 0.0051|\n",
      "|f25fe7e9| 3836|763440|  0.005|\n",
      "|29e4ad33| 3703|763440| 0.0049|\n",
      "+--------+-----+------+-------+\n",
      "only showing top 20 rows\n",
      "\n",
      "+--------+-----+------+-------+\n",
      "|    _c25|count| total|percent|\n",
      "+--------+-----+------+-------+\n",
      "|    null|26239|763440| 0.0344|\n",
      "|dfbb09fb|19155|763440| 0.0251|\n",
      "|6aaba33c|16669|763440| 0.0218|\n",
      "|8fe001f4| 8336|763440| 0.0109|\n",
      "|d8c29807| 7502|763440| 0.0098|\n",
      "|ae1bb660| 7344|763440| 0.0096|\n",
      "|9f32b866| 6610|763440| 0.0087|\n",
      "|e0d76380| 6288|763440| 0.0082|\n",
      "|3563ab62| 6057|763440| 0.0079|\n",
      "|2436ff75| 5769|763440| 0.0076|\n",
      "|623049e6| 5626|763440| 0.0074|\n",
      "|fb8fab62| 5569|763440| 0.0073|\n",
      "|ed397d6b| 5295|763440| 0.0069|\n",
      "|bb669e25| 4495|763440| 0.0059|\n",
      "|21a23bfe| 3980|763440| 0.0052|\n",
      "|680d7261| 3610|763440| 0.0047|\n",
      "|a2f4e8b5| 3082|763440|  0.004|\n",
      "|c5011072| 2676|763440| 0.0035|\n",
      "|1ca7a526| 2669|763440| 0.0035|\n",
      "|c9669737| 2574|763440| 0.0034|\n",
      "+--------+-----+------+-------+\n",
      "only showing top 20 rows\n",
      "\n",
      "+--------+-----+------+-------+\n",
      "|    _c26|count| total|percent|\n",
      "+--------+-----+------+-------+\n",
      "|5978055e|24239|763440| 0.0317|\n",
      "|3516f6e6|17842|763440| 0.0234|\n",
      "|46f42a63|12505|763440| 0.0164|\n",
      "|025225f2|10878|763440| 0.0142|\n",
      "|1aa94af3|10353|763440| 0.0136|\n",
      "|51b97b8f| 9969|763440| 0.0131|\n",
      "|740c210d| 9323|763440| 0.0122|\n",
      "|6e5da64f| 7175|763440| 0.0094|\n",
      "|1f9d2c38| 7139|763440| 0.0094|\n",
      "|eae197fd| 6028|763440| 0.0079|\n",
      "|605bbc24| 5861|763440| 0.0077|\n",
      "|80467802| 5765|763440| 0.0076|\n",
      "|93b18cb5| 5576|763440| 0.0073|\n",
      "|d7ce3abd| 5541|763440| 0.0073|\n",
      "|85dbe138| 5290|763440| 0.0069|\n",
      "|3af886ff| 5254|763440| 0.0069|\n",
      "|7301027a| 5189|763440| 0.0068|\n",
      "|ebd756bd| 4477|763440| 0.0059|\n",
      "|7aab7990| 4465|763440| 0.0058|\n",
      "|165642be| 4385|763440| 0.0057|\n",
      "+--------+-----+------+-------+\n",
      "only showing top 20 rows\n",
      "\n",
      "+--------+------+------+-------+\n",
      "|    _c27| count| total|percent|\n",
      "+--------+------+------+-------+\n",
      "|b28479f6|267574|763440| 0.3505|\n",
      "|07d13a8f|261263|763440| 0.3422|\n",
      "|1adce6ef|117814|763440| 0.1543|\n",
      "|64c94865| 34137|763440| 0.0447|\n",
      "|cfef1c29| 23245|763440| 0.0304|\n",
      "|051219e6| 18435|763440| 0.0241|\n",
      "|8ceecbc8|  9913|763440|  0.013|\n",
      "|f862f261|  9057|763440| 0.0119|\n",
      "|32813e21|  5686|763440| 0.0074|\n",
      "|d2dfe871|  4378|763440| 0.0057|\n",
      "|ad1cc976|  3537|763440| 0.0046|\n",
      "|f7c1b33f|  2437|763440| 0.0032|\n",
      "|0601d3b5|  1340|763440| 0.0018|\n",
      "|243a4e68|   950|763440| 0.0012|\n",
      "|dcd762ee|   897|763440| 0.0012|\n",
      "|687dfaf4|   649|763440| 9.0E-4|\n",
      "|91233270|   460|763440| 6.0E-4|\n",
      "|26ac7cf4|   387|763440| 5.0E-4|\n",
      "|ab7390e9|   286|763440| 4.0E-4|\n",
      "|cf1fc48d|   272|763440| 4.0E-4|\n",
      "+--------+------+------+-------+\n",
      "only showing top 20 rows\n",
      "\n",
      "+--------+-----+------+-------+\n",
      "|    _c28|count| total|percent|\n",
      "+--------+-----+------+-------+\n",
      "|2d0bb053|11513|763440| 0.0151|\n",
      "|d345b1a0| 7930|763440| 0.0104|\n",
      "|3628a186| 7013|763440| 0.0092|\n",
      "|10040656| 6717|763440| 0.0088|\n",
      "|10935a85| 6255|763440| 0.0082|\n",
      "|0c67c4ca| 6116|763440|  0.008|\n",
      "|42b3012c| 6023|763440| 0.0079|\n",
      "|36721ddc| 5981|763440| 0.0078|\n",
      "|9efd8b77| 5893|763440| 0.0077|\n",
      "|a9d1ba1a| 5880|763440| 0.0077|\n",
      "|3c767806| 5730|763440| 0.0075|\n",
      "|e1ac77f7| 5546|763440| 0.0073|\n",
      "|310d155b| 5518|763440| 0.0072|\n",
      "|f3002fbd| 5013|763440| 0.0066|\n",
      "|8ab5b746| 4993|763440| 0.0065|\n",
      "|52baadf5| 4945|763440| 0.0065|\n",
      "|dfab705f| 4772|763440| 0.0063|\n",
      "|18231224| 4575|763440|  0.006|\n",
      "|bffbd637| 4549|763440|  0.006|\n",
      "|62eca3c0| 4542|763440| 0.0059|\n",
      "+--------+-----+------+-------+\n",
      "only showing top 20 rows\n",
      "\n",
      "+--------+-----+------+-------+\n",
      "|    _c29|count| total|percent|\n",
      "+--------+-----+------+-------+\n",
      "|    null|26239|763440| 0.0344|\n",
      "|84898b2a|19156|763440| 0.0251|\n",
      "|b041b04a|16669|763440| 0.0218|\n",
      "|36103458| 8336|763440| 0.0109|\n",
      "|c64d548f| 7502|763440| 0.0098|\n",
      "|bad5ee18| 7344|763440| 0.0096|\n",
      "|31ca40b6| 6746|763440| 0.0088|\n",
      "|f8b34416| 6709|763440| 0.0088|\n",
      "|1203a270| 6288|763440| 0.0082|\n",
      "|b688c8cc| 6057|763440| 0.0079|\n",
      "|f4ead43c| 5769|763440| 0.0076|\n",
      "|c92f3b61| 5626|763440| 0.0074|\n",
      "|c6b1e1b2| 5569|763440| 0.0073|\n",
      "|056d8866| 5295|763440| 0.0069|\n",
      "|2b2ce127| 4495|763440| 0.0059|\n",
      "|01adbab4| 4053|763440| 0.0053|\n",
      "|587267a3| 3980|763440| 0.0052|\n",
      "|c0673b44| 3610|763440| 0.0047|\n",
      "|5a9431f3| 3576|763440| 0.0047|\n",
      "|c4de5bba| 3471|763440| 0.0045|\n",
      "+--------+-----+------+-------+\n",
      "only showing top 20 rows\n",
      "\n",
      "+--------+------+------+-------+\n",
      "|    _c30| count| total|percent|\n",
      "+--------+------+------+-------+\n",
      "|e5ba7672|352697|763440|  0.462|\n",
      "|07c540c4| 99857|763440| 0.1308|\n",
      "|d4bb7bd8| 87399|763440| 0.1145|\n",
      "|3486227d| 63717|763440| 0.0835|\n",
      "|776ce399| 40134|763440| 0.0526|\n",
      "|27c07bd6| 34737|763440| 0.0455|\n",
      "|8efede7f| 32849|763440|  0.043|\n",
      "|1e88c74f| 32262|763440| 0.0423|\n",
      "|2005abd1| 19771|763440| 0.0259|\n",
      "|af5d780c|    17|763440|    0.0|\n",
      "+--------+------+------+-------+\n",
      "\n",
      "+--------+-----+------+-------+\n",
      "|    _c31|count| total|percent|\n",
      "+--------+-----+------+-------+\n",
      "|e88ffc9d|24316|763440| 0.0319|\n",
      "|891589e7|21289|763440| 0.0279|\n",
      "|2804effd|20134|763440| 0.0264|\n",
      "|c21c3e4c|18139|763440| 0.0238|\n",
      "|5aed7436|16400|763440| 0.0215|\n",
      "|7ef5affa|14925|763440| 0.0195|\n",
      "|5bb2ec8e|14590|763440| 0.0191|\n",
      "|395856b0|14343|763440| 0.0188|\n",
      "|582152eb|12782|763440| 0.0167|\n",
      "|7b06fafe| 7766|763440| 0.0102|\n",
      "|005c6740| 7556|763440| 0.0099|\n",
      "|e7e991cb| 7062|763440| 0.0093|\n",
      "|fffe2a63| 7040|763440| 0.0092|\n",
      "|e4ca448c| 7013|763440| 0.0092|\n",
      "|b04e4670| 7013|763440| 0.0092|\n",
      "|6fc84bfb| 6858|763440|  0.009|\n",
      "|9880032b| 6355|763440| 0.0083|\n",
      "|bc5a0ff7| 6283|763440| 0.0082|\n",
      "|f54016b9| 6263|763440| 0.0082|\n",
      "|38dce391| 6260|763440| 0.0082|\n",
      "+--------+-----+------+-------+\n",
      "only showing top 20 rows\n",
      "\n",
      "+--------+------+------+-------+\n",
      "|    _c32| count| total|percent|\n",
      "+--------+------+------+-------+\n",
      "|    null|336505|763440| 0.4408|\n",
      "|21ddcdc9|262932|763440| 0.3444|\n",
      "|55dd3565| 14779|763440| 0.0194|\n",
      "|5b885066|  6198|763440| 0.0081|\n",
      "|9437f62f|  5581|763440| 0.0073|\n",
      "|712d530c|  4533|763440| 0.0059|\n",
      "|cf99e5de|  4319|763440| 0.0057|\n",
      "|1d1eb838|  3859|763440| 0.0051|\n",
      "|efa3470f|  3020|763440|  0.004|\n",
      "|1d04f4a4|  2379|763440| 0.0031|\n",
      "|4764bf77|  2233|763440| 0.0029|\n",
      "|3014a4b1|  2124|763440| 0.0028|\n",
      "|6f3756eb|  1837|763440| 0.0024|\n",
      "|04de9d96|  1801|763440| 0.0024|\n",
      "|a153cea2|  1787|763440| 0.0023|\n",
      "|9653bb65|  1703|763440| 0.0022|\n",
      "|338f20de|  1616|763440| 0.0021|\n",
      "|f30f7842|  1487|763440| 0.0019|\n",
      "|2b558521|  1329|763440| 0.0017|\n",
      "|064f1f80|  1295|763440| 0.0017|\n",
      "+--------+------+------+-------+\n",
      "only showing top 20 rows\n",
      "\n",
      "+--------+------+------+-------+\n",
      "|    _c33| count| total|percent|\n",
      "+--------+------+------+-------+\n",
      "|    null|336505|763440| 0.4408|\n",
      "|b1252a9d|144912|763440| 0.1898|\n",
      "|5840adea|141549|763440| 0.1854|\n",
      "|a458ea53|140474|763440|  0.184|\n",
      "+--------+------+------+-------+\n",
      "\n",
      "+--------+-----+------+-------+\n",
      "|    _c34|count| total|percent|\n",
      "+--------+-----+------+-------+\n",
      "|    null|26239|763440| 0.0344|\n",
      "|0014c32a|19155|763440| 0.0251|\n",
      "|723b4dfd|16669|763440| 0.0218|\n",
      "|e587c466| 8336|763440| 0.0109|\n",
      "|5f957280| 7502|763440| 0.0098|\n",
      "|0429f84b| 7344|763440| 0.0096|\n",
      "|f3ddd519| 6709|763440| 0.0088|\n",
      "|dfcfc3fa| 6610|763440| 0.0087|\n",
      "|73d06dde| 6288|763440| 0.0082|\n",
      "|2754aaf1| 6057|763440| 0.0079|\n",
      "|4f1aa25f| 5769|763440| 0.0076|\n",
      "|60f6221e| 5626|763440| 0.0074|\n",
      "|99c09e97| 5569|763440| 0.0073|\n",
      "|deaf6b52| 5295|763440| 0.0069|\n",
      "|2b796e4a| 4495|763440| 0.0059|\n",
      "|21c9516a| 4053|763440| 0.0053|\n",
      "|c2a93b37| 3980|763440| 0.0052|\n",
      "|e049c839| 3610|763440| 0.0047|\n",
      "|d4703ebd| 3082|763440|  0.004|\n",
      "|a4b7004c| 2708|763440| 0.0035|\n",
      "+--------+-----+------+-------+\n",
      "only showing top 20 rows\n",
      "\n",
      "+--------+------+------+-------+\n",
      "|    _c35| count| total|percent|\n",
      "+--------+------+------+-------+\n",
      "|    null|581689|763440| 0.7619|\n",
      "|ad3062eb|104433|763440| 0.1368|\n",
      "|c9d4222a| 64207|763440| 0.0841|\n",
      "|78e2e389|  5592|763440| 0.0073|\n",
      "|8ec974f4|  4007|763440| 0.0052|\n",
      "|c0061c6d|  3045|763440|  0.004|\n",
      "|ccfd4002|   207|763440| 3.0E-4|\n",
      "|8651fddb|   167|763440| 2.0E-4|\n",
      "|49e825c5|    76|763440| 1.0E-4|\n",
      "|28f45308|     9|763440|    0.0|\n",
      "|d9ce1838|     3|763440|    0.0|\n",
      "|2ec53c35|     3|763440|    0.0|\n",
      "|1856e93d|     1|763440|    0.0|\n",
      "|24eb7cbf|     1|763440|    0.0|\n",
      "+--------+------+------+-------+\n",
      "\n",
      "+--------+------+------+-------+\n",
      "|    _c36| count| total|percent|\n",
      "+--------+------+------+-------+\n",
      "|32c7478e|336227|763440| 0.4404|\n",
      "|3a171ecb|153073|763440| 0.2005|\n",
      "|423fab69| 91572|763440| 0.1199|\n",
      "|bcdee96c| 52861|763440| 0.0692|\n",
      "|be7c41b4| 43467|763440| 0.0569|\n",
      "|c7dc6720| 42624|763440| 0.0558|\n",
      "|55dd3565| 18196|763440| 0.0238|\n",
      "|dbb486d7| 11520|763440| 0.0151|\n",
      "|93bad2c0|  6478|763440| 0.0085|\n",
      "|c3dc6cef|  3537|763440| 0.0046|\n",
      "|85d5a995|  2882|763440| 0.0038|\n",
      "|b264a060|   860|763440| 0.0011|\n",
      "|72592995|    89|763440| 1.0E-4|\n",
      "|25e3c76b|    54|763440| 1.0E-4|\n",
      "+--------+------+------+-------+\n",
      "\n",
      "+--------+-----+------+-------+\n",
      "|    _c37|count| total|percent|\n",
      "+--------+-----+------+-------+\n",
      "|3fdb382b|39957|763440| 0.0523|\n",
      "|b34f3128|36469|763440| 0.0478|\n",
      "|3b183c5c|35207|763440| 0.0461|\n",
      "|1793a828|32847|763440|  0.043|\n",
      "|    null|26239|763440| 0.0344|\n",
      "|45ab94c8|16851|763440| 0.0221|\n",
      "|aee52b6f|16761|763440|  0.022|\n",
      "|9117a34a|15413|763440| 0.0202|\n",
      "|ded4aac9|12750|763440| 0.0167|\n",
      "|8fc66e78|10793|763440| 0.0141|\n",
      "|b258af68| 9457|763440| 0.0124|\n",
      "|df487a73| 9250|763440| 0.0121|\n",
      "|d9556584| 9228|763440| 0.0121|\n",
      "|c0d61a5c| 7347|763440| 0.0096|\n",
      "|6c1cdd05| 6540|763440| 0.0086|\n",
      "|8f079aa5| 6239|763440| 0.0082|\n",
      "|335a6a1e| 5669|763440| 0.0074|\n",
      "|43f13e8b| 5626|763440| 0.0074|\n",
      "|8d365d3b| 4517|763440| 0.0059|\n",
      "|08b0ce98| 4517|763440| 0.0059|\n",
      "+--------+-----+------+-------+\n",
      "only showing top 20 rows\n",
      "\n",
      "+--------+------+------+-------+\n",
      "|    _c38| count| total|percent|\n",
      "+--------+------+------+-------+\n",
      "|    null|336505|763440| 0.4408|\n",
      "|001f3601|109284|763440| 0.1431|\n",
      "|e8b83407| 82623|763440| 0.1082|\n",
      "|ea9a246c| 60873|763440| 0.0797|\n",
      "|cb079c2d| 30328|763440| 0.0397|\n",
      "|445bbe3b| 23763|763440| 0.0311|\n",
      "|9b3e8820| 23737|763440| 0.0311|\n",
      "|2bf691b1| 23543|763440| 0.0308|\n",
      "|f0f449dd| 22347|763440| 0.0293|\n",
      "|010f6491| 15926|763440| 0.0209|\n",
      "|47907db5|  5319|763440|  0.007|\n",
      "|c9f3bea7|  4965|763440| 0.0065|\n",
      "|b9266ff0|  4955|763440| 0.0065|\n",
      "|9d93af03|  2995|763440| 0.0039|\n",
      "|724b04da|  2250|763440| 0.0029|\n",
      "|7a402766|  2114|763440| 0.0028|\n",
      "|c243e98b|  1453|763440| 0.0019|\n",
      "|1575c75f|  1312|763440| 0.0017|\n",
      "|ce62e669|  1293|763440| 0.0017|\n",
      "|46fbac64|  1044|763440| 0.0014|\n",
      "+--------+------+------+-------+\n",
      "only showing top 20 rows\n",
      "\n",
      "+--------+------+------+-------+\n",
      "|    _c39| count| total|percent|\n",
      "+--------+------+------+-------+\n",
      "|    null|336505|763440| 0.4408|\n",
      "|49d68486| 31353|763440| 0.0411|\n",
      "|c84c4aec| 14278|763440| 0.0187|\n",
      "|2fede552| 12158|763440| 0.0159|\n",
      "|c27f155b| 11426|763440|  0.015|\n",
      "|aa5f0a15| 10533|763440| 0.0138|\n",
      "|984e0db0|  8358|763440| 0.0109|\n",
      "|b7d9c3bc|  6411|763440| 0.0084|\n",
      "|6c27a535|  6267|763440| 0.0082|\n",
      "|731c3655|  5626|763440| 0.0074|\n",
      "|b9809574|  3830|763440|  0.005|\n",
      "|9904c656|  3776|763440| 0.0049|\n",
      "|56be3401|  3125|763440| 0.0041|\n",
      "|1219b447|  3021|763440|  0.004|\n",
      "|bdf46dce|  2523|763440| 0.0033|\n",
      "|b13f4ade|  2495|763440| 0.0033|\n",
      "|8e1ae331|  2476|763440| 0.0032|\n",
      "|b29c74dc|  2181|763440| 0.0029|\n",
      "|074bb89f|  2128|763440| 0.0028|\n",
      "|54ca28ff|  1894|763440| 0.0025|\n",
      "+--------+------+------+-------+\n",
      "only showing top 20 rows\n",
      "\n",
      "... completed job in 34.31590819358826 seconds.\n"
     ]
    }
   ],
   "source": [
    "start = time.time()\n",
    "\n",
    "print(\"Counts and Percentages of Total DF for Each Category:\")\n",
    "for i in df.columns[14:]:\n",
    "    df_count = df.groupby(i).count().sort(desc('count'))\n",
    "    df_count.withColumn('total', sum('count').over(Window.partitionBy())) \\\n",
    "            .withColumn('percent', round((col('count')/total_count),4)).show()\n",
    "print(f'... completed job in {time.time() - start} seconds.')"
   ]
  },
  {
   "cell_type": "markdown",
   "metadata": {},
   "source": [
    "From the tables below, we can see that over at least six variables, `_c18`, `_c21`, `_c22`, `_c27`, `_c32`, and `_c35` all have one or two values that cover over 60% of all values. For the most part, these variables also have some of the fewest distinct values, but category `_c32` has over 1,700 distinct values within its category (on our toy dataset of one million values). For these categories, we mostly took the process described in the algorithm theory of looking at the weighted average of the category and then bucketed accordingly. However, if we had more time and in future iterations of this work, we could definitely one-hot encode the values that make up some threshold of the variable (for instance 80%) and group the rest of the values as \"other\" as they are likely too rare to be predictive."
   ]
  },
  {
   "cell_type": "markdown",
   "metadata": {},
   "source": [
    "<br>"
   ]
  },
  {
   "cell_type": "markdown",
   "metadata": {},
   "source": [
    "## Exploratory Data Analysis Challenges"
   ]
  },
  {
   "cell_type": "markdown",
   "metadata": {},
   "source": [
    "### Hashed Categorical Variables\n",
    "First, we were not familiar with the variables. This made it very difficult for us to understand the relationships between all of our features and which exact pieces of EDA to analyze and go into further detail. We also did not know anything about the categorical variables and the categories themselves are just a series of letters and numbers. Therefore, we were not able to extrapolate the meaning of any of the categories and why some of the categories may have had several values and others may have had very few values. We could not apply domain knowledge or expertise to supplement our data science judgements. The lack of context drove us to make conservative determinations about handling the categorical variables, including not was the main reason that we did not analyze any numeric and categorical features with one another.\n",
    "\n",
    "### Long tail of observations in many of the categorical variables\n",
    "From our initial EDA, we realized that we would need to address the long tail of observations in many of the categorical variables. With respect to this course, it was clear that if we one-hot encoded all categorical variables, we would end up with thousands if not millions of columns. This would be too much data to shuffle over the network, and would likely crash our Google Cloud clusters. Just a pass on the data to calculate the list of features to one-hot encode would have been computationally taxing. In addition, we had many rare instances of features so we would have likely been overfitting or needed to conduct some type of principal component analysis.\n",
    "\n",
    "### EDA in Pyspark\n",
    "Another challenge that we had was the learning curve of pyspark dataframes. We were determined not to use pandas at all so that the entire EDA process could theoretically be done, and refreshed or repeated, in a scalable fashion on the cloud. Making the histograms, subplots, and correlation matrix only using pyspark dataframes was quite a challenge due to limited experience with pyspark dataframes and limited available information online."
   ]
  },
  {
   "cell_type": "markdown",
   "metadata": {},
   "source": [
    "**Resources Referenced:**\n",
    "\n",
    "* [Stack Overflow: Making histogram with Spark DataFrame column](https://stackoverflow.com/questions/36043256/making-histogram-with-spark-dataframe-column/36060072)\n",
    "* [Stack Overflow: calculating percentages on a pyspark dataframe](https://stackoverflow.com/questions/43968946/calculating-percentages-on-a-pyspark-dataframe/46479716)\n",
    "* [Stack Overflow: How to find count of Null and Nan values for each column in a PySpark dataframe efficiently?](https://stackoverflow.com/questions/44627386/how-to-find-count-of-null-and-nan-values-for-each-column-in-a-pyspark-dataframe)\n",
    "* [Stack Overflow: Spark DataFrame: count distinct values of every column](https://stackoverflow.com/questions/40888946/spark-dataframe-count-distinct-values-of-every-column)\n",
    "* [Databricks: How to calculate correlation matrix (with all columns at once) in pyspark dataframe?](https://forums.databricks.com/questions/3092/how-to-calculate-correlation-matrix-with-all-colum.html)\n",
    "* [Apache Spark: Basic Statistics](https://spark.apache.org/docs/2.2.0/ml-statistics.html)"
   ]
  },
  {
   "cell_type": "markdown",
   "metadata": {},
   "source": [
    "<br>\n",
    "<br>"
   ]
  },
  {
   "cell_type": "markdown",
   "metadata": {},
   "source": [
    "# __Section 4__ - Algorithm Implementation"
   ]
  },
  {
   "cell_type": "markdown",
   "metadata": {},
   "source": [
    "**<font color='red'>\n",
    "4. Algorithm Implementation -- develop a ‘homegrown’ implementation of the algorithm, apply it to the training dataset and evaluate your results on the test set.\n",
    "</font>**"
   ]
  },
  {
   "cell_type": "markdown",
   "metadata": {},
   "source": [
    "We created several models within this algorithm implementation to iterate and look at logistic regression and decision tree algorithms of all our implementations, which was 27 distinct models (including our baseline models). Due to the volume of models, we created several functions that could be used across some or all the models for ease of computing."
   ]
  },
  {
   "cell_type": "markdown",
   "metadata": {},
   "source": [
    "## Functions"
   ]
  },
  {
   "cell_type": "code",
   "execution_count": 8,
   "metadata": {},
   "outputs": [],
   "source": [
    "def metrics(col_name):\n",
    "    \"\"\"Calculates key metrics on a binary column of 0s and 1s\n",
    "    Input: Column Name\n",
    "    Output: TP, FP, TN, FP, accuracy, precision, recall, F1 score\n",
    "    \"\"\"\n",
    "    \n",
    "    TP = train_set.filter(col('_c0')==0).filter(col(col_name)==0).count()\n",
    "    FP = train_set.filter(col('_c0')==1).filter(col(col_name)==0).count()\n",
    "    TN = train_set.filter(col('_c0')==1).filter(col(col_name)==1).count()\n",
    "    FN = train_set.filter(col('_c0')==0).filter(col(col_name)==1).count()\n",
    "    accuracy = (TP + TN) / (TP + FP + FN + TN)\n",
    "    precision = TP/(TP+FP)\n",
    "    recall = TP/(TP+FN)\n",
    "    F1 = 2*(precision*recall)/(precision+recall)\n",
    "    print(\"True Positives: {} \\nFalse Positives: {} \\nTrue Negatives: {} \\nFalse Negatives: {} \\nAccuracy: {} \\nPrecision: {} \\nRecall: {} \\nF1 Score: {}\".format(TP, FP, TN, FN, accuracy, precision, recall, F1))"
   ]
  },
  {
   "cell_type": "code",
   "execution_count": 9,
   "metadata": {},
   "outputs": [],
   "source": [
    "def feature_prep (input_df):\n",
    "    \"\"\"Parses out types of features within a dataframe\n",
    "    Input: Dataframe\n",
    "    Output: Dataframe, Categorical Column List, Numeric Column List\n",
    "    \"\"\"\n",
    "    \n",
    "    # develop feature set\n",
    "    dep_var = ['_c0']\n",
    "\n",
    "    model_df = input_df.select(input_df.columns[1:])\n",
    "\n",
    "    feature_df = model_df.select([column for column in model_df.columns \n",
    "                              if column not in dep_var])\n",
    "    \n",
    "    # numerical and categorical column split\n",
    "    cat_cols = feature_df.columns[1:]\n",
    "    num_cols = feature_df.columns[0]\n",
    "    \n",
    "    return model_df, cat_cols, num_cols"
   ]
  },
  {
   "cell_type": "code",
   "execution_count": 10,
   "metadata": {},
   "outputs": [],
   "source": [
    "def column_vector_maker(df, columns, lookup_df, suffix):\n",
    "    \"\"\"One-hot encodes categorical variables\n",
    "    Input: Dataframe, Categorical Column List, Lookup Dataframe, Suffix for New Columns\n",
    "    Output: Dataframe, Categorical Column List, Numeric Column List\n",
    "    \"\"\"\n",
    "    \n",
    "    # Creating the lookup table vectors for each category\n",
    "    # we are doing a map-side join\n",
    "    for i in columns:\n",
    "        new_col = str(i) + str(suffix)\n",
    "        df = df.join(lookup_df, df[i]==lookup_df['id'], \"left_outer\" )\n",
    "        df = df.withColumnRenamed(\"category\", new_col) \n",
    "        lst = df.columns\n",
    "        cols = [i for i in lst if i not in ['id']]\n",
    "        df = df.select(cols)\n",
    "        \n",
    "    df = df.select([c for c in df.columns if c not in columns])\n",
    "    \n",
    "    cat_cols = df.columns[2:]\n",
    "    num_cols = df.columns[0]\n",
    "    \n",
    "    return df, cat_cols, num_cols"
   ]
  },
  {
   "cell_type": "code",
   "execution_count": 11,
   "metadata": {},
   "outputs": [],
   "source": [
    "def pipeline_prep (object_type):\n",
    "    \"\"\"Assembles a dataframe of label and feature fectors for machine learning algorithm\n",
    "    Input: Dataframe, Categorical Column List, Numeric Column List\n",
    "    Ouput: Dataframe\n",
    "    \"\"\"\n",
    "    \n",
    "    model_df = object_type[0]\n",
    "    cat_cols = object_type[1]\n",
    "    num_cols = object_type[2]\n",
    "\n",
    "    # developing the string indexer and vector assembler of input and output columns\n",
    "    label_stringIdx = StringIndexer(inputCol = '_c0', outputCol = 'label')\n",
    "\n",
    "    assemblerInputs = cat_cols + [num_cols]\n",
    "    assembler = VectorAssembler(inputCols=assemblerInputs, outputCol=\"features\")\n",
    "    \n",
    "    # pipeline work for more setup\n",
    "    pipeline = Pipeline(stages = [label_stringIdx, assembler])\n",
    "\n",
    "    pipelineModel = pipeline.fit(model_df)\n",
    "    model_df = pipelineModel.transform(model_df)\n",
    "\n",
    "    selectedCols = ['label', 'features'] \n",
    "    model_df = model_df.select(selectedCols)\n",
    "    return model_df"
   ]
  },
  {
   "cell_type": "code",
   "execution_count": 12,
   "metadata": {},
   "outputs": [],
   "source": [
    "def lr_cross_validate (lr_model):\n",
    "    \"\"\"Hypertunes a logistic regression model based on a set of parameters\n",
    "    Input: Logistic regression classification\n",
    "    Output: Hypertuned logistic regression classification\n",
    "    \"\"\"\n",
    "\n",
    "    # for elasticNetParam, 0 is L2 and 1 is L1\n",
    "    paramGrid = ParamGridBuilder() \\\n",
    "        .addGrid(lr_model.elasticNetParam, [0.0, 0.25, 0.75, 1.0]) \\\n",
    "        .addGrid(lr_model.regParam, [0.0, 0.01, 0.1, 0.5, 0.75, 1.0, 1.25]) \\\n",
    "        .build()\n",
    "\n",
    "    # optimizing for an f1 score\n",
    "    crossval = CrossValidator(estimator = lr, estimatorParamMaps = paramGrid,\n",
    "                              evaluator = MulticlassClassificationEvaluator(\n",
    "                                  labelCol = \"label\", predictionCol=\"prediction\", \n",
    "                                  metricName=\"f1\"), numFolds=3)\n",
    "    return crossval"
   ]
  },
  {
   "cell_type": "code",
   "execution_count": 13,
   "metadata": {},
   "outputs": [],
   "source": [
    "def dt_cross_validate (dt_model):\n",
    "    \"\"\"Hypertunes a decision tree model based on a set of parameters\n",
    "    Input: Decision tree classification\n",
    "    Output: Hypertuned decision tree classification\n",
    "    \"\"\"\n",
    "\n",
    "    paramGrid = ParamGridBuilder() \\\n",
    "        .addGrid(dt_model.maxBins, [28, 30, 32, 34, 36]) \\\n",
    "        .addGrid(dt_model.maxDepth, [3, 4, 5, 6, 7]) \\\n",
    "        .addGrid(dt_model.impurity, ['gini', 'entropy']) \\\n",
    "        .build()\n",
    "\n",
    "    # optimizing for an f1 score\n",
    "    crossval = CrossValidator(estimator = dt, estimatorParamMaps = paramGrid,\n",
    "                              evaluator = MulticlassClassificationEvaluator(\n",
    "                                  labelCol = \"label\", predictionCol=\"prediction\", \n",
    "                                  metricName=\"f1\"), numFolds=3)\n",
    "    return crossval"
   ]
  },
  {
   "cell_type": "code",
   "execution_count": 14,
   "metadata": {},
   "outputs": [],
   "source": [
    "def train_results (trainingSummary):\n",
    "    \"\"\"Showcases key metrics on logistic regression training summary\n",
    "    Input: Logistic regression training model\n",
    "    Output: Training set accuracy, precision, recall, F1 score\n",
    "    \"\"\"\n",
    "\n",
    "    # predicting on the training set\n",
    "    falsePositiveRate = trainingSummary.weightedFalsePositiveRate\n",
    "    truePositiveRate = trainingSummary.weightedTruePositiveRate\n",
    "    accuracy = trainingSummary.accuracy\n",
    "    precision = trainingSummary.weightedPrecision\n",
    "    recall = trainingSummary.weightedRecall\n",
    "    f1 = trainingSummary.weightedFMeasure()\n",
    "\n",
    "    print(\"False Positive Rate: %s\\nTrue Positive Rate: %s\\nAccuracy: %s\\nPrecision: %s\\nRecall: %s\\nF1 Score: %s\"\n",
    "          % (falsePositiveRate, truePositiveRate, accuracy, precision, recall, f1))"
   ]
  },
  {
   "cell_type": "code",
   "execution_count": 15,
   "metadata": {},
   "outputs": [],
   "source": [
    "def test_results (predictions):\n",
    "    \"\"\"Showcases key metrics on all algorithm test datasets\n",
    "    Input: Classification training model\n",
    "    Output: Testing set accuracy, precision, recall, F1 score\n",
    "    \"\"\"\n",
    "    \n",
    "    evaluator = MulticlassClassificationEvaluator(labelCol = \"label\", predictionCol=\"prediction\", metricName=\"accuracy\")\n",
    "    print(\"Accuracy:\", evaluator.evaluate(predictions))\n",
    "\n",
    "    evaluator = MulticlassClassificationEvaluator(labelCol = \"label\", predictionCol=\"prediction\", metricName=\"weightedPrecision\")\n",
    "    print(\"Precision:\", evaluator.evaluate(predictions))\n",
    "    \n",
    "    evaluator = MulticlassClassificationEvaluator(labelCol = \"label\", predictionCol=\"prediction\", metricName=\"weightedRecall\")\n",
    "    print(\"Recall:\", evaluator.evaluate(predictions))\n",
    "    \n",
    "    evaluator = MulticlassClassificationEvaluator(labelCol = \"label\", predictionCol=\"prediction\", metricName=\"f1\")\n",
    "    print(\"F1 Score:\", evaluator.evaluate(predictions))"
   ]
  },
  {
   "cell_type": "code",
   "execution_count": 16,
   "metadata": {},
   "outputs": [],
   "source": [
    "def to_array(col):\n",
    "    \"\"\"Separating a vector into distinct columns\n",
    "    Input: Vector column\n",
    "    Output: Separate array columns of vector\n",
    "    \"\"\"\n",
    "    \n",
    "    # separating a vector into its array types\n",
    "    def to_array_(v):\n",
    "        return v.toArray().tolist()\n",
    "    return udf(to_array_, ArrayType(DoubleType())).asNondeterministic()(col)"
   ]
  },
  {
   "cell_type": "markdown",
   "metadata": {},
   "source": [
    "<br>"
   ]
  },
  {
   "cell_type": "markdown",
   "metadata": {},
   "source": [
    "## Baseline Model: Predicting the Majority / Random Class"
   ]
  },
  {
   "cell_type": "markdown",
   "metadata": {},
   "source": [
    "We started out with a baseline model. The goal of our baseline model is to develop a \"baseline\" threshold for our f1-score; essentially this model represents the f1-score that we would like to beat. We created three different baseline models to cover all potential approaches. Our first baseline model with the column `predict_0` predicted all rows as the majority class of not clicking through the ad, which is 0. The f1-score here is fairly high at 0.86, but we know this is likely to be true with our high amount of class unbalance. We have no true negatives or false negatives in this model because everything is predicted as the majority class of 0.\n",
    "\n",
    "Therefore, we created two, more balanced models. Our first balanced model, `random_1_0_weighted`, randomly assigns 75% of the predicted values to the majority class of 0, and the other 25% or so of the values to the minority class of 1. We produced this weighted split as this split is directionally similar to the actual class split in the data. The f1-score here is 0.73, which is slightly higher than the f1-score of many of our best models. This model shows that we do have quite a bit of room to improve within our logistic and decision tree models below. Our second balanced model, `random_1_0`, randomly assigns a 1 or 0 as the prediction. The f1-score in this case is 58%, which is lower than the f1-scores in our best models depicted model."
   ]
  },
  {
   "cell_type": "code",
   "execution_count": 29,
   "metadata": {},
   "outputs": [
    {
     "data": {
      "text/plain": [
       "(pyspark.sql.dataframe.DataFrame,\n",
       " pyspark.sql.dataframe.DataFrame,\n",
       " pyspark.sql.dataframe.DataFrame)"
      ]
     },
     "execution_count": 29,
     "metadata": {},
     "output_type": "execute_result"
    }
   ],
   "source": [
    "# split data into train and test set 0.8 train, 0.2 test\n",
    "# completed this split from a theoretical standpoint\n",
    "splits = df.randomSplit([0.8,0.2], seed=2019)\n",
    "train_set =  splits[0]\n",
    "test_set = splits[1]\n",
    "\n",
    "# all dataframes\n",
    "type(df), type(train_set), type(test_set)"
   ]
  },
  {
   "cell_type": "code",
   "execution_count": 30,
   "metadata": {},
   "outputs": [
    {
     "name": "stdout",
     "output_type": "stream",
     "text": [
      "+---+---------+-------------------+----------+\n",
      "|_c0|predict_0|random_1_0_weighted|random_1_0|\n",
      "+---+---------+-------------------+----------+\n",
      "|  0|        0|                0.0|       1.0|\n",
      "|  0|        0|                0.0|       0.0|\n",
      "|  0|        0|                0.0|       1.0|\n",
      "|  0|        0|                1.0|       1.0|\n",
      "|  0|        0|                0.0|       0.0|\n",
      "|  0|        0|                0.0|       1.0|\n",
      "|  0|        0|                0.0|       0.0|\n",
      "|  0|        0|                0.0|       0.0|\n",
      "|  0|        0|                0.0|       1.0|\n",
      "|  0|        0|                0.0|       0.0|\n",
      "+---+---------+-------------------+----------+\n",
      "only showing top 10 rows\n",
      "\n"
     ]
    }
   ],
   "source": [
    "train_set = train_set.withColumn('predict_0',  lit(0))\n",
    "train_set = train_set.withColumn(\"random_1_0_weighted\", round((rand(seed = 2019) * 4) * .168))\n",
    "train_set = train_set.withColumn(\"random_1_0\", round((rand(seed = 2019) * 1)))\n",
    "\n",
    "train_set.select(['_c0','predict_0','random_1_0_weighted','random_1_0']).show(10)"
   ]
  },
  {
   "cell_type": "code",
   "execution_count": 31,
   "metadata": {},
   "outputs": [
    {
     "name": "stdout",
     "output_type": "stream",
     "text": [
      "+---------+------+\n",
      "|predict_0| count|\n",
      "+---------+------+\n",
      "|        0|610367|\n",
      "+---------+------+\n",
      "\n",
      "+-------------------+------+\n",
      "|random_1_0_weighted| count|\n",
      "+-------------------+------+\n",
      "|                0.0|453848|\n",
      "|                1.0|156519|\n",
      "+-------------------+------+\n",
      "\n",
      "+----------+------+\n",
      "|random_1_0| count|\n",
      "+----------+------+\n",
      "|       0.0|305106|\n",
      "|       1.0|305261|\n",
      "+----------+------+\n",
      "\n"
     ]
    }
   ],
   "source": [
    "# Checking the distributions of the baseline outcome variables\n",
    "train_set.groupBy(['predict_0']).count().show()\n",
    "train_set.groupBy(['random_1_0_weighted']).count().show()\n",
    "train_set.groupBy(['random_1_0']).count().show()"
   ]
  },
  {
   "cell_type": "code",
   "execution_count": 32,
   "metadata": {},
   "outputs": [
    {
     "name": "stdout",
     "output_type": "stream",
     "text": [
      "Majority Class Prediction Baseline Model:\n",
      "True Positives: 454082 \n",
      "False Positives: 156285 \n",
      "True Negatives: 0 \n",
      "False Negatives: 0 \n",
      "Accuracy: 0.743949132243388 \n",
      "Precision: 0.743949132243388 \n",
      "Recall: 1.0 \n",
      "F1 Score: 0.8531775594697351\n"
     ]
    }
   ],
   "source": [
    "print(\"Majority Class Prediction Baseline Model:\")\n",
    "metrics('predict_0')"
   ]
  },
  {
   "cell_type": "code",
   "execution_count": 33,
   "metadata": {},
   "outputs": [
    {
     "name": "stdout",
     "output_type": "stream",
     "text": [
      "Weighted Randomized Baseline Model:\n",
      "True Positives: 337619 \n",
      "False Positives: 116229 \n",
      "True Negatives: 40056 \n",
      "False Negatives: 116463 \n",
      "Accuracy: 0.6187670696482608 \n",
      "Precision: 0.7439032451393418 \n",
      "Recall: 0.7435198928827833 \n",
      "F1 Score: 0.7437115196105426\n"
     ]
    }
   ],
   "source": [
    "print(\"Weighted Randomized Baseline Model:\")\n",
    "metrics('random_1_0_weighted')"
   ]
  },
  {
   "cell_type": "code",
   "execution_count": 34,
   "metadata": {},
   "outputs": [
    {
     "name": "stdout",
     "output_type": "stream",
     "text": [
      "Fully Randomized Baseline Model:\n",
      "True Positives: 226850 \n",
      "False Positives: 78256 \n",
      "True Negatives: 78029 \n",
      "False Negatives: 227232 \n",
      "Accuracy: 0.49950111981807666 \n",
      "Precision: 0.7435120908798909 \n",
      "Recall: 0.4995793711268009 \n",
      "F1 Score: 0.597612185650985\n"
     ]
    }
   ],
   "source": [
    "print(\"Fully Randomized Baseline Model:\")\n",
    "metrics('random_1_0')"
   ]
  },
  {
   "cell_type": "markdown",
   "metadata": {},
   "source": [
    "<br>"
   ]
  },
  {
   "cell_type": "markdown",
   "metadata": {},
   "source": [
    "## Reading in the Parquet Model Files"
   ]
  },
  {
   "cell_type": "code",
   "execution_count": 17,
   "metadata": {},
   "outputs": [
    {
     "name": "stdout",
     "output_type": "stream",
     "text": [
      "... completed job in 1.9357154369354248 seconds.\n"
     ]
    }
   ],
   "source": [
    "# read parquet files of features\n",
    "start = time.time()\n",
    "mean_wgt_HL_df = spark.read.parquet(\"data/df_mean_wgt_HL.parquet\")\n",
    "mean_wgt_HLM_df = spark.read.parquet(\"data/df_mean_wgt_HLM.parquet\")\n",
    "mean_wv_df = spark.read.parquet(\"data/df_mean_wv.parquet\")\n",
    "zero_wgt_HL_df = spark.read.parquet(\"data/df_zero_wgt_HL.parquet\")\n",
    "zero_wgt_HLM_df = spark.read.parquet(\"data/df_zero_wgt_HLM.parquet\")\n",
    "zero_wv_df = spark.read.parquet(\"data/df_zero_wv.parquet\")\n",
    "print(f'... completed job in {time.time() - start} seconds.')"
   ]
  },
  {
   "cell_type": "code",
   "execution_count": 18,
   "metadata": {},
   "outputs": [
    {
     "name": "stdout",
     "output_type": "stream",
     "text": [
      "... completed job in 1.558964490890503 seconds.\n"
     ]
    }
   ],
   "source": [
    "# read parquet files of features\n",
    "start = time.time()\n",
    "mean_wgt_HL_test_df = spark.read.parquet(\"data/test_df_mean_wgt_HL.parquet\")\n",
    "mean_wgt_HLM_test_df = spark.read.parquet(\"data/test_df_mean_wgt_HLM.parquet\")\n",
    "mean_wv_test_df = spark.read.parquet(\"data/test_df_mean_wv.parquet\")\n",
    "zero_wgt_HL_test_df = spark.read.parquet(\"data/test_df_zero_wgt_HL.parquet\")\n",
    "zero_wgt_HLM_test_df = spark.read.parquet(\"data/test_df_zero_wgt_HLM.parquet\")\n",
    "zero_wv_test_df = spark.read.parquet(\"data/test_df_zero_wv.parquet\")\n",
    "print(f'... completed job in {time.time() - start} seconds.')"
   ]
  },
  {
   "cell_type": "code",
   "execution_count": 19,
   "metadata": {},
   "outputs": [],
   "source": [
    "# broadcasting the lookup dataframe as we have to use it multiple times\n",
    "lookup_df_HL = broadcast(spark.createDataFrame(\n",
    "    [('H',  Vectors.dense(1.0)), \n",
    "     ('L', Vectors.dense(0.0))],\n",
    "    [\"id\", \"category\"]))"
   ]
  },
  {
   "cell_type": "code",
   "execution_count": 20,
   "metadata": {},
   "outputs": [],
   "source": [
    "# broadcasting the lookup dataframe as we have to use it multiple times\n",
    "lookup_df_HLM = broadcast(spark.createDataFrame(\n",
    "    [('H6', Vectors.dense(1.0,0.0,0.0)), \n",
    "     ('H1', Vectors.dense(0.0,1.0,0.0)),\n",
    "     ('L',  Vectors.dense(0.0,0.0,1.0)),\n",
    "     ('M',  Vectors.dense(0.0,0.0,0.0))],\n",
    "    [\"id\", \"category\"]))"
   ]
  },
  {
   "cell_type": "code",
   "execution_count": 21,
   "metadata": {},
   "outputs": [],
   "source": [
    "f1_scores = {}\n",
    "evaluator = MulticlassClassificationEvaluator(labelCol = \"label\", \n",
    "                                              predictionCol=\"prediction\", \n",
    "                                              metricName=\"f1\")"
   ]
  },
  {
   "cell_type": "markdown",
   "metadata": {},
   "source": [
    "The algorithm model matrix that we used for our modeling approaches is below as well as described in our algorithm theory in section two and motivated by our EDA in section three.\n",
    "\n",
    "* **3 Transformation Types** - We examined three approaches to handle the fact that we have several distinct values per categorical feature. One-hot encoding all features alone would have led to potentially over a million columns and would not have allowed for a scalable implementation. Based on Brieman's theorem, we first computed the weighted average of the target variable (our click-through rate) for every value within each category. Then we decided to explore three options:\n",
    " + Split the categorical feature by two bins (high and low) based on the average value of the target variable. We imputed all null values with the low bins. All models below ending in `wgt_HL` have this categorical transformation.\n",
    " + Split the categorical feature by four bins (high, middle, low) based on the average value of the target variable. We put all null values in their own, missing bin. All models below ending in `wgt_HLM` have this categorical transformation.\n",
    " + Transformed the categorical features to numeric features using the weighted average values of the target variable. We imputed the mean for all missing values. All models below ending in `wv` have this categorical transformation.<br> <br>\n",
    "* **2 Imputing Methods** - Many of our numeric variables had a high percentage of null values. Therefore, we used two different imputing techniques:\n",
    " + Replace missing values with the respective mean of each numeric column. All models below with the word `mean` will have this numeric transformation.\n",
    " + Replace missing values with zero. All models below with the word `zero` will have this numeric transformation.<br> <br>\n",
    "* **2 Algorithms** - We used two different algorithms as discussed above:\n",
    " + Logistic Regression - Algorithm used to calculate the probability of a binary result (where the values are 1s or 0s) given some initial features. All models below with the word `lr` are using this algorithm.\n",
    " + Decision Trees - Algorithm used to predict features impacting dependent variable most. Works by dividing the data in homogenous subsets using binary recursive partitions. All models below with the word `dt` are using this algorithm.<br> <br>\n",
    "* **2 Model Runs** - In order to make sure that we are using the best parameters if the best ones are better than the default\n",
    " + Normal / Default Run - Algorithm uses default parameters. Logistic regression algorithm max iterations is set to 10 for speed, although the max iterations is 100. Decision tree algorithm max depth (layers of the tree) is set to 3, which is also the default.\n",
    " + Hypertuned Run - For the logistic regression algorithm, we hypertuned the learning rate and the regularization parameter. For the decision tree algorithm, we hypertuned the bin size, the maximum depth of the tree, and the impurity. All models with hypertuning have `tuned` in the name."
   ]
  },
  {
   "cell_type": "markdown",
   "metadata": {},
   "source": [
    "**<center>Algorithm Modeling Matrix</center>**\n",
    "\n",
    "|\t 3 Transformation Types\t|\t2 Imputing Methods\t|\t2 Algorithms\t|\t2 Model Runs\t|\n",
    "|\t---\t|\t---\t|\t---\t|\t---\t|\n",
    "|\tWeighted Value\t|\tNulls => Mean\t|\tLogistic Regression\t|\tDefault\t|\n",
    "|\tHi Low\t|\tNulls => 0\t|\tDecision Tree\t|\tHypertuned\t|\n",
    "|\tHi Mid Low Missing\t|\t\t|\t\t|\t\t|"
   ]
  },
  {
   "cell_type": "markdown",
   "metadata": {},
   "source": [
    "Of the models listed in the matrix above, we succeeded in running the categorical Hi Low and Hi Mid Low Missing transformations with a zero imputed numeric transformation through the logistic regression and decision tree algorithms at the default and hypertuned levels."
   ]
  },
  {
   "cell_type": "markdown",
   "metadata": {},
   "source": [
    "<br>"
   ]
  },
  {
   "cell_type": "markdown",
   "metadata": {},
   "source": [
    "## Logistic Regression"
   ]
  },
  {
   "cell_type": "markdown",
   "metadata": {},
   "source": [
    "### HL Categorical Transformation with Numeric Mean"
   ]
  },
  {
   "cell_type": "code",
   "execution_count": 22,
   "metadata": {},
   "outputs": [
    {
     "name": "stdout",
     "output_type": "stream",
     "text": [
      "Train Results:\n",
      "False Positive Rate: 0.3745238151050068\n",
      "True Positive Rate: 0.8118787549130277\n",
      "Accuracy: 0.8118787549130277\n",
      "Precision: 0.8021746110178296\n",
      "Recall: 0.8118787549130277\n",
      "F1 Score: 0.8041246150444501\n",
      "\n",
      "Test Results:\n",
      "Accuracy: 0.7444879240623755\n",
      "Precision: 0.7100080698027813\n",
      "Recall: 0.7444879240623754\n",
      "F1 Score: 0.7147520025627844\n",
      "... completed job in 171.169527053833 seconds.\n"
     ]
    }
   ],
   "source": [
    "start = time.time()\n",
    "\n",
    "lr = LogisticRegression(featuresCol = 'features', labelCol = 'label', maxIter=10)\n",
    "lrModel = lr.fit(pipeline_prep(column_vector_maker(feature_prep(mean_wgt_HL_df)[0], \n",
    "                                  feature_prep(mean_wgt_HL_df)[1], lookup_df_HL, \"HL\")))\n",
    "trainingSummary = lrModel.summary\n",
    "print(\"Train Results:\")\n",
    "train_results(trainingSummary)\n",
    "\n",
    "print(\"\\nTest Results:\")\n",
    "predictions = lrModel.transform(pipeline_prep(column_vector_maker(feature_prep(mean_wgt_HL_test_df)[0], \n",
    "                                  feature_prep(mean_wgt_HL_test_df)[1], lookup_df_HL, \"HL\")))\n",
    "test_results(predictions)\n",
    "\n",
    "f1_scores['lr_mean_wgt_HL'] = format(evaluator.evaluate(predictions), '.6f')\n",
    "\n",
    "print(f'... completed job in {time.time() - start} seconds.')"
   ]
  },
  {
   "cell_type": "code",
   "execution_count": 23,
   "metadata": {},
   "outputs": [
    {
     "name": "stdout",
     "output_type": "stream",
     "text": [
      "Test Results:\n",
      "Accuracy: 0.738660639041503\n",
      "Precision: 0.7048795610332903\n",
      "Recall: 0.738660639041503\n",
      "F1 Score: 0.7117184318627955\n",
      "... completed job in 620.6293642520905 seconds.\n"
     ]
    }
   ],
   "source": [
    "# parameter tuned\n",
    "start = time.time()\n",
    "\n",
    "lr = LogisticRegression(featuresCol = 'features', labelCol = 'label', maxIter=10)\n",
    "lrModel = lr_cross_validate(lr).fit(pipeline_prep(column_vector_maker(feature_prep(mean_wgt_HL_df)[0], \n",
    "                                  feature_prep(mean_wgt_HL_df)[1], lookup_df_HL, \"HL\")))\n",
    "\n",
    "print(\"Test Results:\")\n",
    "predictions = lrModel.transform(pipeline_prep(column_vector_maker(feature_prep(mean_wgt_HL_test_df)[0], \n",
    "                                  feature_prep(mean_wgt_HL_test_df)[1], lookup_df_HL, \"HL\")))\n",
    "test_results(predictions)\n",
    "\n",
    "f1_scores['lr_mean_wgt_HL_tuned'] = format(evaluator.evaluate(predictions), '.6f')\n",
    "\n",
    "print(f'... completed job in {time.time() - start} seconds.')"
   ]
  },
  {
   "cell_type": "markdown",
   "metadata": {},
   "source": [
    "<br>"
   ]
  },
  {
   "cell_type": "markdown",
   "metadata": {},
   "source": [
    "### HLM Categorical Transformation with Numeric Mean"
   ]
  },
  {
   "cell_type": "code",
   "execution_count": 24,
   "metadata": {},
   "outputs": [
    {
     "name": "stdout",
     "output_type": "stream",
     "text": [
      "Train Results:\n",
      "False Positive Rate: 0.36471481676247897\n",
      "True Positive Rate: 0.8551068455535769\n",
      "Accuracy: 0.8551068455535767\n",
      "Precision: 0.8554947375241826\n",
      "Recall: 0.8551068455535769\n",
      "F1 Score: 0.8419210614159758\n",
      "\n",
      "Test Results:\n",
      "Accuracy: 0.7546856728489022\n",
      "Precision: 0.716799633812184\n",
      "Recall: 0.7546856728489022\n",
      "F1 Score: 0.7040270427063684\n",
      "... completed job in 112.92387413978577 seconds.\n"
     ]
    }
   ],
   "source": [
    "start = time.time()\n",
    "\n",
    "lr = LogisticRegression(featuresCol = 'features', labelCol = 'label', maxIter=10)\n",
    "lrModel = lr.fit(pipeline_prep(column_vector_maker(feature_prep(mean_wgt_HLM_df)[0], \n",
    "                                  feature_prep(mean_wgt_HLM_df)[1], lookup_df_HLM, \"HLM\")))\n",
    "trainingSummary = lrModel.summary\n",
    "print(\"Train Results:\")\n",
    "train_results(trainingSummary)\n",
    "\n",
    "print(\"\\nTest Results:\")\n",
    "predictions = lrModel.transform(pipeline_prep(column_vector_maker(feature_prep(mean_wgt_HLM_test_df)[0], \n",
    "                                  feature_prep(mean_wgt_HLM_test_df)[1], lookup_df_HLM, \"HLM\")))\n",
    "test_results(predictions)\n",
    "\n",
    "f1_scores['lr_mean_wgt_HLM'] = format(evaluator.evaluate(predictions), '.6f')\n",
    "\n",
    "print(f'... completed job in {time.time() - start} seconds.')"
   ]
  },
  {
   "cell_type": "code",
   "execution_count": 25,
   "metadata": {},
   "outputs": [
    {
     "name": "stdout",
     "output_type": "stream",
     "text": [
      "Test Results:\n",
      "Accuracy: 0.7528956772258988\n",
      "Precision: 0.7127505302503129\n",
      "Recall: 0.7528956772258987\n",
      "F1 Score: 0.6983002650218749\n",
      "... completed job in 605.7316727638245 seconds.\n"
     ]
    }
   ],
   "source": [
    "# parameter tuned\n",
    "start = time.time()\n",
    "\n",
    "lr = LogisticRegression(featuresCol = 'features', labelCol = 'label', maxIter=10)\n",
    "lrModel = lr_cross_validate(lr).fit(pipeline_prep(column_vector_maker(feature_prep(mean_wgt_HLM_df)[0], \n",
    "                                  feature_prep(mean_wgt_HLM_df)[1], lookup_df_HLM, \"HLM\")))\n",
    "\n",
    "print(\"Test Results:\")\n",
    "predictions = lrModel.transform(pipeline_prep(column_vector_maker(feature_prep(mean_wgt_HLM_test_df)[0], \n",
    "                                  feature_prep(mean_wgt_HLM_test_df)[1], lookup_df_HLM, \"HLM\")))\n",
    "test_results(predictions)\n",
    "\n",
    "f1_scores['lr_mean_wgt_HLM_tuned'] = format(evaluator.evaluate(predictions), '.6f')\n",
    "\n",
    "print(f'... completed job in {time.time() - start} seconds.')"
   ]
  },
  {
   "cell_type": "markdown",
   "metadata": {},
   "source": [
    "<br>"
   ]
  },
  {
   "cell_type": "markdown",
   "metadata": {},
   "source": [
    "### HL Categorical Transformation with Numeric Zero"
   ]
  },
  {
   "cell_type": "code",
   "execution_count": 26,
   "metadata": {},
   "outputs": [
    {
     "name": "stdout",
     "output_type": "stream",
     "text": [
      "Train Results:\n",
      "False Positive Rate: 0.36627955390990147\n",
      "True Positive Rate: 0.8113135212093707\n",
      "Accuracy: 0.8113135212093707\n",
      "Precision: 0.8024400463498507\n",
      "Recall: 0.8113135212093707\n",
      "F1 Score: 0.8047317550595157\n",
      "\n",
      "Test Results:\n",
      "Accuracy: 0.7438607723112501\n",
      "Precision: 0.7095602983139156\n",
      "Recall: 0.7438607723112501\n",
      "F1 Score: 0.7146179244156552\n",
      "... completed job in 141.03413319587708 seconds.\n"
     ]
    }
   ],
   "source": [
    "start = time.time()\n",
    "\n",
    "lr = LogisticRegression(featuresCol = 'features', labelCol = 'label', maxIter=10)\n",
    "lrModel = lr.fit(pipeline_prep(column_vector_maker(feature_prep(zero_wgt_HL_df)[0], \n",
    "                                  feature_prep(zero_wgt_HL_df)[1], lookup_df_HL, \"HL\")))\n",
    "trainingSummary = lrModel.summary\n",
    "print(\"Train Results:\")\n",
    "train_results(trainingSummary)\n",
    "\n",
    "print(\"\\nTest Results:\")\n",
    "predictions = lrModel.transform(pipeline_prep(column_vector_maker(feature_prep(zero_wgt_HL_test_df)[0], \n",
    "                                  feature_prep(zero_wgt_HL_test_df)[1], lookup_df_HL, \"HL\")))\n",
    "test_results(predictions)\n",
    "\n",
    "f1_scores['lr_zero_wgt_HL'] = format(evaluator.evaluate(predictions), '.6f')\n",
    "\n",
    "print(f'... completed job in {time.time() - start} seconds.')"
   ]
  },
  {
   "cell_type": "code",
   "execution_count": 27,
   "metadata": {},
   "outputs": [
    {
     "name": "stdout",
     "output_type": "stream",
     "text": [
      "Test Results:\n",
      "Accuracy: 0.7448602954146061\n",
      "Precision: 0.7102045212035304\n",
      "Recall: 0.7448602954146062\n",
      "F1 Score: 0.7147222640983938\n",
      "... completed job in 606.7404642105103 seconds.\n"
     ]
    }
   ],
   "source": [
    "# parameter tuned\n",
    "start = time.time()\n",
    "\n",
    "lr = LogisticRegression(featuresCol = 'features', labelCol = 'label', maxIter=10)\n",
    "lrModel = lr_cross_validate(lr).fit(pipeline_prep(column_vector_maker(feature_prep(zero_wgt_HL_df)[0], \n",
    "                                  feature_prep(zero_wgt_HL_df)[1], lookup_df_HL, \"HL\")))\n",
    "\n",
    "print(\"Test Results:\")\n",
    "predictions = lrModel.transform(pipeline_prep(column_vector_maker(feature_prep(zero_wgt_HL_test_df)[0], \n",
    "                                  feature_prep(zero_wgt_HL_test_df)[1], lookup_df_HL, \"HL\")))\n",
    "test_results(predictions)\n",
    "\n",
    "f1_scores['lr_zero_wgt_HL_tuned'] = format(evaluator.evaluate(predictions), '.6f')\n",
    "\n",
    "print(f'... completed job in {time.time() - start} seconds.')"
   ]
  },
  {
   "cell_type": "markdown",
   "metadata": {},
   "source": [
    "<br>"
   ]
  },
  {
   "cell_type": "markdown",
   "metadata": {},
   "source": [
    "### HLM Categorical Transformation with Numeric Zero"
   ]
  },
  {
   "cell_type": "code",
   "execution_count": 28,
   "metadata": {},
   "outputs": [
    {
     "name": "stdout",
     "output_type": "stream",
     "text": [
      "Train Results:\n",
      "False Positive Rate: 0.35725649939459386\n",
      "True Positive Rate: 0.8582688775769332\n",
      "Accuracy: 0.8582688775769333\n",
      "Precision: 0.8589770336333523\n",
      "Recall: 0.8582688775769332\n",
      "F1 Score: 0.845682384187086\n",
      "\n",
      "Test Results:\n",
      "Accuracy: 0.754986183062983\n",
      "Precision: 0.7171827893285674\n",
      "Recall: 0.754986183062983\n",
      "F1 Score: 0.7003339149104107\n",
      "... completed job in 112.11254262924194 seconds.\n"
     ]
    }
   ],
   "source": [
    "start = time.time()\n",
    "\n",
    "lr = LogisticRegression(featuresCol = 'features', labelCol = 'label', maxIter=10)\n",
    "lrModel = lr.fit(pipeline_prep(column_vector_maker(feature_prep(zero_wgt_HLM_df)[0], \n",
    "                                  feature_prep(zero_wgt_HLM_df)[1], lookup_df_HLM, \"HLM\")))\n",
    "trainingSummary = lrModel.summary\n",
    "print(\"Train Results:\")\n",
    "train_results(trainingSummary)\n",
    "\n",
    "print(\"\\nTest Results:\")\n",
    "predictions = lrModel.transform(pipeline_prep(column_vector_maker(feature_prep(zero_wgt_HLM_test_df)[0], \n",
    "                                  feature_prep(zero_wgt_HLM_test_df)[1], lookup_df_HLM, \"HLM\")))\n",
    "test_results(predictions)\n",
    "\n",
    "f1_scores['lr_zero_wgt_HLM'] = format(evaluator.evaluate(predictions), '.6f')\n",
    "\n",
    "print(f'... completed job in {time.time() - start} seconds.')"
   ]
  },
  {
   "cell_type": "code",
   "execution_count": 29,
   "metadata": {},
   "outputs": [
    {
     "name": "stdout",
     "output_type": "stream",
     "text": [
      "Test Results:\n",
      "Accuracy: 0.754986183062983\n",
      "Precision: 0.7171827893285674\n",
      "Recall: 0.754986183062983\n",
      "F1 Score: 0.7003339149104107\n",
      "... completed job in 585.4295964241028 seconds.\n"
     ]
    }
   ],
   "source": [
    "# parameter tuned\n",
    "start = time.time()\n",
    "\n",
    "lr = LogisticRegression(featuresCol = 'features', labelCol = 'label', maxIter=10)\n",
    "lrModel = lr_cross_validate(lr).fit(pipeline_prep(column_vector_maker(feature_prep(zero_wgt_HLM_df)[0], \n",
    "                                  feature_prep(zero_wgt_HLM_df)[1], lookup_df_HLM, \"HLM\")))\n",
    "\n",
    "print(\"Test Results:\")\n",
    "predictions = lrModel.transform(pipeline_prep(column_vector_maker(feature_prep(zero_wgt_HLM_test_df)[0], \n",
    "                                  feature_prep(zero_wgt_HLM_test_df)[1], lookup_df_HLM, \"HLM\")))\n",
    "test_results(predictions)\n",
    "\n",
    "f1_scores['lr_zero_wgt_HLM_tuned'] = format(evaluator.evaluate(predictions), '.6f')\n",
    "\n",
    "print(f'... completed job in {time.time() - start} seconds.')"
   ]
  },
  {
   "cell_type": "markdown",
   "metadata": {},
   "source": [
    "<br>"
   ]
  },
  {
   "cell_type": "markdown",
   "metadata": {},
   "source": [
    "### Weighted Average Categorical Transformation with Numeric Mean"
   ]
  },
  {
   "cell_type": "code",
   "execution_count": 30,
   "metadata": {},
   "outputs": [
    {
     "name": "stdout",
     "output_type": "stream",
     "text": [
      "Train Results:\n",
      "False Positive Rate: 0.3050630198520408\n",
      "True Positive Rate: 0.8588652400932554\n",
      "Accuracy: 0.8588652400932554\n",
      "Precision: 0.8539264625046437\n",
      "Recall: 0.8588652400932554\n",
      "F1 Score: 0.852348772157915\n",
      "\n",
      "Test Results:\n",
      "Accuracy: 0.7546007460492706\n",
      "Precision: 0.7226044451909592\n",
      "Recall: 0.7546007460492706\n",
      "F1 Score: 0.7235822798103525\n",
      "... completed job in 59.604304790496826 seconds.\n"
     ]
    }
   ],
   "source": [
    "start = time.time()\n",
    "\n",
    "lr = LogisticRegression(featuresCol = 'features', labelCol = 'label', maxIter=10)\n",
    "lrModel = lr.fit(pipeline_prep(feature_prep(mean_wv_df)))\n",
    "trainingSummary = lrModel.summary\n",
    "print(\"Train Results:\")\n",
    "train_results(trainingSummary)\n",
    "\n",
    "print(\"\\nTest Results:\")\n",
    "predictions = lrModel.transform(pipeline_prep(feature_prep(mean_wv_test_df)))\n",
    "test_results(predictions)\n",
    "\n",
    "f1_scores['lr_mean_wv'] = format(evaluator.evaluate(predictions), '.6f')\n",
    "\n",
    "print(f'... completed job in {time.time() - start} seconds.')"
   ]
  },
  {
   "cell_type": "code",
   "execution_count": 31,
   "metadata": {},
   "outputs": [
    {
     "name": "stdout",
     "output_type": "stream",
     "text": [
      "Test Results:\n",
      "Accuracy: 0.7546007460492706\n",
      "Precision: 0.7226044451909592\n",
      "Recall: 0.7546007460492706\n",
      "F1 Score: 0.7235822798103525\n",
      "... completed job in 334.36239862442017 seconds.\n"
     ]
    }
   ],
   "source": [
    "# parameter tuned\n",
    "start = time.time()\n",
    "\n",
    "lr = LogisticRegression(featuresCol = 'features', labelCol = 'label', maxIter=10)\n",
    "lrModel = lr_cross_validate(lr).fit(pipeline_prep(feature_prep(mean_wv_df)))\n",
    "\n",
    "print(\"Test Results:\")\n",
    "predictions = lrModel.transform(pipeline_prep(feature_prep(mean_wv_test_df)))\n",
    "test_results(predictions)\n",
    "\n",
    "f1_scores['lr_mean_wv_tuned'] = format(evaluator.evaluate(predictions), '.6f')\n",
    "\n",
    "print(f'... completed job in {time.time() - start} seconds.')"
   ]
  },
  {
   "cell_type": "markdown",
   "metadata": {},
   "source": [
    "<br>"
   ]
  },
  {
   "cell_type": "markdown",
   "metadata": {},
   "source": [
    "### Weighted Average Categorical Transformation with Numeric Zero"
   ]
  },
  {
   "cell_type": "code",
   "execution_count": 32,
   "metadata": {},
   "outputs": [
    {
     "name": "stdout",
     "output_type": "stream",
     "text": [
      "Train Results:\n",
      "False Positive Rate: 0.30583408283477376\n",
      "True Positive Rate: 0.8583196666923343\n",
      "Accuracy: 0.8583196666923343\n",
      "Precision: 0.8533163305968405\n",
      "Recall: 0.8583196666923343\n",
      "F1 Score: 0.8517899695793342\n",
      "\n",
      "Test Results:\n",
      "Accuracy: 0.7569003024700633\n",
      "Precision: 0.7255050987700802\n",
      "Recall: 0.7569003024700633\n",
      "F1 Score: 0.7253463048184301\n",
      "... completed job in 57.23364210128784 seconds.\n"
     ]
    }
   ],
   "source": [
    "start = time.time()\n",
    "\n",
    "lr = LogisticRegression(featuresCol = 'features', labelCol = 'label', maxIter=10)\n",
    "lrModel = lr.fit(pipeline_prep(feature_prep(zero_wv_df)))\n",
    "trainingSummary = lrModel.summary\n",
    "print(\"Train Results:\")\n",
    "train_results(trainingSummary)\n",
    "\n",
    "print(\"\\nTest Results:\")\n",
    "predictions = lrModel.transform(pipeline_prep(feature_prep(zero_wv_test_df)))\n",
    "test_results(predictions)\n",
    "\n",
    "f1_scores['lr_zero_wv'] = format(evaluator.evaluate(predictions), '.6f')\n",
    "\n",
    "print(f'... completed job in {time.time() - start} seconds.')"
   ]
  },
  {
   "cell_type": "code",
   "execution_count": 33,
   "metadata": {},
   "outputs": [
    {
     "name": "stdout",
     "output_type": "stream",
     "text": [
      "Test Results:\n",
      "Accuracy: 0.7569003024700633\n",
      "Precision: 0.7255050987700802\n",
      "Recall: 0.7569003024700633\n",
      "F1 Score: 0.7253463048184301\n",
      "... completed job in 331.35326170921326 seconds.\n"
     ]
    }
   ],
   "source": [
    "# parameter tuned\n",
    "start = time.time()\n",
    "\n",
    "lr = LogisticRegression(featuresCol = 'features', labelCol = 'label', maxIter=10)\n",
    "lrModel = lr_cross_validate(lr).fit(pipeline_prep(feature_prep(zero_wv_df)))\n",
    "\n",
    "print(\"Test Results:\")\n",
    "predictions = lrModel.transform(pipeline_prep(feature_prep(zero_wv_test_df)))\n",
    "test_results(predictions)\n",
    "\n",
    "f1_scores['lr_zero_wv_tuned'] = format(evaluator.evaluate(predictions), '.6f')\n",
    "\n",
    "print(f'... completed job in {time.time() - start} seconds.')"
   ]
  },
  {
   "cell_type": "markdown",
   "metadata": {},
   "source": [
    "<br>"
   ]
  },
  {
   "cell_type": "markdown",
   "metadata": {},
   "source": [
    "## Decision Tree"
   ]
  },
  {
   "cell_type": "markdown",
   "metadata": {},
   "source": [
    "### HL Categorical Transformation with Numeric Mean"
   ]
  },
  {
   "cell_type": "code",
   "execution_count": 34,
   "metadata": {},
   "outputs": [
    {
     "name": "stdout",
     "output_type": "stream",
     "text": [
      "Test Results:\n",
      "Accuracy: 0.7023642314451275\n",
      "Precision: 0.6889538380385171\n",
      "Recall: 0.7023642314451275\n",
      "F1 Score: 0.6948403410840417\n",
      "... completed job in 182.1031002998352 seconds.\n"
     ]
    }
   ],
   "source": [
    "start = time.time()\n",
    "\n",
    "dt = DecisionTreeClassifier(featuresCol = 'features', labelCol = 'label', maxDepth = 3)\n",
    "dtModel = dt.fit(pipeline_prep(column_vector_maker(feature_prep(mean_wgt_HL_df)[0], \n",
    "                                  feature_prep(mean_wgt_HL_df)[1], lookup_df_HL, \"HL\")))\n",
    "\n",
    "print(\"Test Results:\")\n",
    "predictions = dtModel.transform(pipeline_prep(column_vector_maker(feature_prep(mean_wgt_HL_test_df)[0], \n",
    "                                  feature_prep(mean_wgt_HL_test_df)[1], lookup_df_HL, \"HL\")))\n",
    "test_results(predictions)\n",
    "\n",
    "f1_scores['dt_mean_wgt_HL'] = format(evaluator.evaluate(predictions), '.6f')\n",
    "\n",
    "print(f'... completed job in {time.time() - start} seconds.')"
   ]
  },
  {
   "cell_type": "code",
   "execution_count": 35,
   "metadata": {},
   "outputs": [
    {
     "name": "stdout",
     "output_type": "stream",
     "text": [
      "Test Results:\n",
      "Accuracy: 0.7271955210912441\n",
      "Precision: 0.6973291677123316\n",
      "Recall: 0.727195521091244\n",
      "F1 Score: 0.7062929535369874\n",
      "... completed job in 846.7514927387238 seconds.\n"
     ]
    }
   ],
   "source": [
    "# parameter tuned\n",
    "start = time.time()\n",
    "\n",
    "dt = DecisionTreeClassifier(featuresCol = 'features', labelCol = 'label', maxDepth = 3)\n",
    "dtModel = dt_cross_validate(dt).fit(pipeline_prep(column_vector_maker(feature_prep(mean_wgt_HL_df)[0], \n",
    "                                  feature_prep(mean_wgt_HL_df)[1], lookup_df_HL, \"HL\")))\n",
    "\n",
    "print(\"Test Results:\")\n",
    "predictions = dtModel.transform(pipeline_prep(column_vector_maker(feature_prep(mean_wgt_HL_test_df)[0], \n",
    "                                  feature_prep(mean_wgt_HL_test_df)[1], lookup_df_HL, \"HL\")))\n",
    "test_results(predictions)\n",
    "\n",
    "f1_scores['dt_mean_wgt_HL_tuned'] = format(evaluator.evaluate(predictions), '.6f')\n",
    "\n",
    "print(f'... completed job in {time.time() - start} seconds.')"
   ]
  },
  {
   "cell_type": "markdown",
   "metadata": {},
   "source": [
    "<br>"
   ]
  },
  {
   "cell_type": "markdown",
   "metadata": {},
   "source": [
    "### HLM Categorical Transformation with Numeric Mean"
   ]
  },
  {
   "cell_type": "code",
   "execution_count": 36,
   "metadata": {},
   "outputs": [
    {
     "name": "stdout",
     "output_type": "stream",
     "text": [
      "Test Results:\n",
      "Accuracy: 0.7453567905509136\n",
      "Precision: 0.6858876822973996\n",
      "Recall: 0.7453567905509135\n",
      "F1 Score: 0.6609785316420668\n",
      "... completed job in 141.03395009040833 seconds.\n"
     ]
    }
   ],
   "source": [
    "start = time.time()\n",
    "\n",
    "dt = DecisionTreeClassifier(featuresCol = 'features', labelCol = 'label', maxDepth = 3)\n",
    "dtModel = dt.fit(pipeline_prep(column_vector_maker(feature_prep(mean_wgt_HLM_df)[0], \n",
    "                                  feature_prep(mean_wgt_HLM_df)[1], lookup_df_HLM, \"HLM\")))\n",
    "\n",
    "print(\"Test Results:\")\n",
    "predictions = dtModel.transform(pipeline_prep(column_vector_maker(feature_prep(mean_wgt_HLM_test_df)[0], \n",
    "                                  feature_prep(mean_wgt_HLM_test_df)[1], lookup_df_HLM, \"HLM\")))\n",
    "test_results(predictions)\n",
    "\n",
    "f1_scores['dt_mean_wgt_HLM'] = format(evaluator.evaluate(predictions), '.6f')\n",
    "\n",
    "print(f'... completed job in {time.time() - start} seconds.')"
   ]
  },
  {
   "cell_type": "code",
   "execution_count": 37,
   "metadata": {},
   "outputs": [
    {
     "name": "stdout",
     "output_type": "stream",
     "text": [
      "Test Results:\n",
      "Accuracy: 0.7505177268362154\n",
      "Precision: 0.7073855175342934\n",
      "Recall: 0.7505177268362154\n",
      "F1 Score: 0.6938219876009833\n",
      "... completed job in 828.3962671756744 seconds.\n"
     ]
    }
   ],
   "source": [
    "# parameter tuned\n",
    "start = time.time()\n",
    "\n",
    "dt = DecisionTreeClassifier(featuresCol = 'features', labelCol = 'label', maxDepth = 3)\n",
    "dtModel = dt_cross_validate(dt).fit(pipeline_prep(column_vector_maker(feature_prep(mean_wgt_HLM_df)[0], \n",
    "                                  feature_prep(mean_wgt_HLM_df)[1], lookup_df_HLM, \"HLM\")))\n",
    "\n",
    "print(\"Test Results:\")\n",
    "predictions = dtModel.transform(pipeline_prep(column_vector_maker(feature_prep(mean_wgt_HLM_test_df)[0], \n",
    "                                  feature_prep(mean_wgt_HLM_test_df)[1], lookup_df_HLM, \"HLM\")))\n",
    "test_results(predictions)\n",
    "\n",
    "f1_scores['dt_mean_wgt_HLM_tuned'] = format(evaluator.evaluate(predictions), '.6f')\n",
    "\n",
    "print(f'... completed job in {time.time() - start} seconds.')"
   ]
  },
  {
   "cell_type": "markdown",
   "metadata": {},
   "source": [
    "<br>"
   ]
  },
  {
   "cell_type": "markdown",
   "metadata": {},
   "source": [
    "### HL Categorical Transformation with Numeric Zero"
   ]
  },
  {
   "cell_type": "code",
   "execution_count": 38,
   "metadata": {},
   "outputs": [
    {
     "name": "stdout",
     "output_type": "stream",
     "text": [
      "Test Results:\n",
      "Accuracy: 0.7057090407844623\n",
      "Precision: 0.6884282574940056\n",
      "Recall: 0.7057090407844623\n",
      "F1 Score: 0.6956540110907865\n",
      "... completed job in 165.98070812225342 seconds.\n"
     ]
    }
   ],
   "source": [
    "start = time.time()\n",
    "\n",
    "dt = DecisionTreeClassifier(featuresCol = 'features', labelCol = 'label', maxDepth = 3)\n",
    "dtModel = dt.fit(pipeline_prep(column_vector_maker(feature_prep(zero_wgt_HL_df)[0], \n",
    "                                  feature_prep(zero_wgt_HL_df)[1], lookup_df_HL, \"HL\")))\n",
    "\n",
    "print(\"Test Results:\")\n",
    "predictions = dtModel.transform(pipeline_prep(column_vector_maker(feature_prep(zero_wgt_HL_test_df)[0], \n",
    "                                  feature_prep(zero_wgt_HL_test_df)[1], lookup_df_HL, \"HL\")))\n",
    "test_results(predictions)\n",
    "\n",
    "f1_scores['dt_zero_wgt_HL'] = format(evaluator.evaluate(predictions), '.6f')\n",
    "\n",
    "print(f'... completed job in {time.time() - start} seconds.')"
   ]
  },
  {
   "cell_type": "code",
   "execution_count": 39,
   "metadata": {},
   "outputs": [
    {
     "name": "stdout",
     "output_type": "stream",
     "text": [
      "Test Results:\n",
      "Accuracy: 0.7427175269315948\n",
      "Precision: 0.7048040357440635\n",
      "Recall: 0.7427175269315947\n",
      "F1 Score: 0.7089055295858424\n",
      "... completed job in 847.7946429252625 seconds.\n"
     ]
    }
   ],
   "source": [
    "# parameter tuned\n",
    "start = time.time()\n",
    "\n",
    "dt = DecisionTreeClassifier(featuresCol = 'features', labelCol = 'label', maxDepth = 3)\n",
    "dtModel = dt_cross_validate(dt).fit(pipeline_prep(column_vector_maker(feature_prep(zero_wgt_HL_df)[0], \n",
    "                                  feature_prep(zero_wgt_HL_df)[1], lookup_df_HL, \"HL\")))\n",
    "\n",
    "print(\"Test Results:\")\n",
    "predictions = dtModel.transform(pipeline_prep(column_vector_maker(feature_prep(zero_wgt_HL_test_df)[0], \n",
    "                                  feature_prep(zero_wgt_HL_test_df)[1], lookup_df_HL, \"HL\")))\n",
    "test_results(predictions)\n",
    "\n",
    "f1_scores['dt_zero_wgt_HL_tuned'] = format(evaluator.evaluate(predictions), '.6f')\n",
    "\n",
    "print(f'... completed job in {time.time() - start} seconds.')"
   ]
  },
  {
   "cell_type": "markdown",
   "metadata": {},
   "source": [
    "<br>"
   ]
  },
  {
   "cell_type": "markdown",
   "metadata": {},
   "source": [
    "### HLM Categorical Transformation with Numeric Zero"
   ]
  },
  {
   "cell_type": "code",
   "execution_count": 40,
   "metadata": {},
   "outputs": [
    {
     "name": "stdout",
     "output_type": "stream",
     "text": [
      "Test Results:\n",
      "Accuracy: 0.7453567905509136\n",
      "Precision: 0.6858876822973996\n",
      "Recall: 0.7453567905509135\n",
      "F1 Score: 0.6609785316420668\n",
      "... completed job in 141.77455115318298 seconds.\n"
     ]
    }
   ],
   "source": [
    "start = time.time()\n",
    "\n",
    "dt = DecisionTreeClassifier(featuresCol = 'features', labelCol = 'label', maxDepth = 3)\n",
    "dtModel = dt.fit(pipeline_prep(column_vector_maker(feature_prep(zero_wgt_HLM_df)[0], \n",
    "                                  feature_prep(zero_wgt_HLM_df)[1], lookup_df_HLM, \"HLM\")))\n",
    "\n",
    "print(\"Test Results:\")\n",
    "predictions = dtModel.transform(pipeline_prep(column_vector_maker(feature_prep(zero_wgt_HLM_test_df)[0], \n",
    "                                  feature_prep(zero_wgt_HLM_test_df)[1], lookup_df_HLM, \"HLM\")))\n",
    "test_results(predictions)\n",
    "\n",
    "f1_scores['dt_zero_wgt_HLM'] = format(evaluator.evaluate(predictions), '.6f')\n",
    "\n",
    "print(f'... completed job in {time.time() - start} seconds.')"
   ]
  },
  {
   "cell_type": "code",
   "execution_count": 41,
   "metadata": {},
   "outputs": [
    {
     "name": "stdout",
     "output_type": "stream",
     "text": [
      "Test Results:\n",
      "Accuracy: 0.7518504243073566\n",
      "Precision: 0.7175187131947449\n",
      "Recall: 0.7518504243073566\n",
      "F1 Score: 0.7182584478682227\n",
      "... completed job in 810.8262243270874 seconds.\n"
     ]
    }
   ],
   "source": [
    "# parameter tuned\n",
    "start = time.time()\n",
    "\n",
    "dt = DecisionTreeClassifier(featuresCol = 'features', labelCol = 'label', maxDepth = 3)\n",
    "dtModel = dt_cross_validate(dt).fit(pipeline_prep(column_vector_maker(feature_prep(zero_wgt_HLM_df)[0], \n",
    "                                  feature_prep(zero_wgt_HLM_df)[1], lookup_df_HLM, \"HLM\")))\n",
    "\n",
    "print(\"Test Results:\")\n",
    "predictions = dtModel.transform(pipeline_prep(column_vector_maker(feature_prep(zero_wgt_HLM_test_df)[0], \n",
    "                                  feature_prep(zero_wgt_HLM_test_df)[1], lookup_df_HLM, \"HLM\")))\n",
    "test_results(predictions)\n",
    "\n",
    "f1_scores['dt_zero_wgt_HLM_tuned'] = format(evaluator.evaluate(predictions), '.6f')\n",
    "\n",
    "print(f'... completed job in {time.time() - start} seconds.')"
   ]
  },
  {
   "cell_type": "markdown",
   "metadata": {},
   "source": [
    "<br>"
   ]
  },
  {
   "cell_type": "markdown",
   "metadata": {},
   "source": [
    "### Weighted Average Categorical Transformation with Numeric Mean"
   ]
  },
  {
   "cell_type": "code",
   "execution_count": 42,
   "metadata": {},
   "outputs": [
    {
     "name": "stdout",
     "output_type": "stream",
     "text": [
      "Test Results:\n",
      "Accuracy: 0.746682955191314\n",
      "Precision: 0.6929897571547143\n",
      "Recall: 0.746682955191314\n",
      "F1 Score: 0.6677894034616959\n",
      "... completed job in 49.69821238517761 seconds.\n"
     ]
    }
   ],
   "source": [
    "start = time.time()\n",
    "\n",
    "dt = DecisionTreeClassifier(featuresCol = 'features', labelCol = 'label', maxDepth = 3)\n",
    "dtModel = dt.fit(pipeline_prep(feature_prep(mean_wv_df)))\n",
    "\n",
    "print(\"Test Results:\")\n",
    "predictions = dtModel.transform(pipeline_prep(feature_prep(mean_wv_test_df)))\n",
    "test_results(predictions)\n",
    "\n",
    "f1_scores['dt_mean_wv'] = format(evaluator.evaluate(predictions), '.6f')\n",
    "\n",
    "print(f'... completed job in {time.time() - start} seconds.')"
   ]
  },
  {
   "cell_type": "code",
   "execution_count": 43,
   "metadata": {},
   "outputs": [
    {
     "name": "stdout",
     "output_type": "stream",
     "text": [
      "Test Results:\n",
      "Accuracy: 0.7529544727025668\n",
      "Precision: 0.7152852153463204\n",
      "Recall: 0.7529544727025668\n",
      "F1 Score: 0.7097837141085723\n",
      "... completed job in 503.74834060668945 seconds.\n"
     ]
    }
   ],
   "source": [
    "# parameter tuned\n",
    "start = time.time()\n",
    "\n",
    "dt = DecisionTreeClassifier(featuresCol = 'features', labelCol = 'label', maxDepth = 3)\n",
    "dtModel = dt_cross_validate(dt).fit(pipeline_prep(feature_prep(mean_wv_df)))\n",
    "\n",
    "print(\"Test Results:\")\n",
    "predictions = dtModel.transform(pipeline_prep(feature_prep(mean_wv_test_df)))\n",
    "test_results(predictions)\n",
    "\n",
    "f1_scores['dt_mean_wv_tuned'] = format(evaluator.evaluate(predictions), '.6f')\n",
    "\n",
    "print(f'... completed job in {time.time() - start} seconds.')"
   ]
  },
  {
   "cell_type": "markdown",
   "metadata": {},
   "source": [
    "<br>"
   ]
  },
  {
   "cell_type": "markdown",
   "metadata": {},
   "source": [
    "### Weighted Average Categorical Transformation with Numeric Zero"
   ]
  },
  {
   "cell_type": "code",
   "execution_count": 44,
   "metadata": {},
   "outputs": [
    {
     "name": "stdout",
     "output_type": "stream",
     "text": [
      "Test Results:\n",
      "Accuracy: 0.747205581650585\n",
      "Precision: 0.6951316701660123\n",
      "Recall: 0.747205581650585\n",
      "F1 Score: 0.6693277700273779\n",
      "... completed job in 48.91723656654358 seconds.\n"
     ]
    }
   ],
   "source": [
    "start = time.time()\n",
    "\n",
    "dt = DecisionTreeClassifier(featuresCol = 'features', labelCol = 'label', maxDepth = 3)\n",
    "dtModel = dt.fit(pipeline_prep(feature_prep(zero_wv_df)))\n",
    "\n",
    "print(\"Test Results:\")\n",
    "predictions = dtModel.transform(pipeline_prep(feature_prep(zero_wv_test_df)))\n",
    "test_results(predictions)\n",
    "\n",
    "f1_scores['dt_zero_wv'] = format(evaluator.evaluate(predictions), '.6f')\n",
    "\n",
    "print(f'... completed job in {time.time() - start} seconds.')"
   ]
  },
  {
   "cell_type": "code",
   "execution_count": 45,
   "metadata": {},
   "outputs": [
    {
     "name": "stdout",
     "output_type": "stream",
     "text": [
      "Test Results:\n",
      "Accuracy: 0.7550319128781693\n",
      "Precision: 0.7238304084447137\n",
      "Recall: 0.7550319128781693\n",
      "F1 Score: 0.7252821114014038\n",
      "... completed job in 505.7289569377899 seconds.\n"
     ]
    }
   ],
   "source": [
    "# parameter tuned\n",
    "start = time.time()\n",
    "\n",
    "dt = DecisionTreeClassifier(featuresCol = 'features', labelCol = 'label', maxDepth = 3)\n",
    "dtModel = dt_cross_validate(dt).fit(pipeline_prep(feature_prep(zero_wv_df)))\n",
    "\n",
    "print(\"Test Results:\")\n",
    "predictions = dtModel.transform(pipeline_prep(feature_prep(zero_wv_test_df)))\n",
    "test_results(predictions)\n",
    "\n",
    "f1_scores['dt_zero_wv_tuned'] = format(evaluator.evaluate(predictions), '.6f')\n",
    "\n",
    "print(f'... completed job in {time.time() - start} seconds.')"
   ]
  },
  {
   "cell_type": "markdown",
   "metadata": {},
   "source": [
    "<br>"
   ]
  },
  {
   "cell_type": "markdown",
   "metadata": {},
   "source": [
    "## Best Model Fine Tuning"
   ]
  },
  {
   "cell_type": "markdown",
   "metadata": {},
   "source": [
    "Now that we have completed our modeling exercise, we will evaluate all f1 score results as well as deep dive into one logistic regression model and one decision tree model using the `mean_wgt_HLM_test_df` dataset. This dataset performed fairly well for both models, and we will discuss it more comprehensively below."
   ]
  },
  {
   "cell_type": "code",
   "execution_count": 46,
   "metadata": {},
   "outputs": [
    {
     "data": {
      "image/png": "[encoded data removed]",
      "text/plain": [
       "<Figure size 720x720 with 1 Axes>"
      ]
     },
     "metadata": {},
     "output_type": "display_data"
    }
   ],
   "source": [
    "f1_scores_ordered = {k: v for k, v in sorted(f1_scores.items(), key=lambda item: item[1])}\n",
    "\n",
    "keys = list(f1_scores_ordered.keys())\n",
    "values = list(f1_scores_ordered.values())\n",
    "\n",
    "plt.figure(figsize=(10,10))\n",
    "plt.barh(range(len(f1_scores_ordered)), values, tick_label=keys, height=.5, color='c', align='center')\n",
    "\n",
    "for i, v in enumerate(values):\n",
    "    plt.text(v, i, \" \" + str(v), color='c', va='center', fontweight='bold')\n",
    "\n",
    "# removing x-axis\n",
    "plt.tick_params(axis='x', which='both', bottom=False, top=False,labelbottom=False)\n",
    "    \n",
    "plt.title(\"F1 Scores for all Models\")\n",
    "plt.ylabel(\"Models\")\n",
    "plt.xlabel(\"F1 Percentage\")\n",
    "plt.show()"
   ]
  },
  {
   "cell_type": "markdown",
   "metadata": {},
   "source": [
    "## Model Discussion and Review\n",
    "Overall, we feel that the models we evaluated appeared to have reasonable F1 scores for initial attempts (at least better than coin flips), had a few surprising results, and clearly demonstrated the opportunity available from the next steps we have identified throughout this discussion.<br><br>\n",
    "As discussed above, the baseline models we started with were useful for exploratory analysis and familiarity with the data and analysis, but not particularly useful for comparison to our actual model results (due to the high class imbalance and purely artificial modeling).  We do think that, compared to the 0.58 f1-score of the random_1_0 baseline model, even our worst model performs better than a coin-flip.  On the other hand, the random_1_0_weighted model, with an f1-score of 0.73 and a direct adjustment for the class imbalance, gives a clear indication that directly addressing the class imbalance in this dataset has the potential to dramatically improve the overall performance of our models.\n",
    "Among our various model dimensions:<br>\n",
    "* **3 Transformation Types** - In comparing the results of our 3 categorical variable transformations \"high and low\" vs \"high, middle, low\" vs \"weighted average values of the target variable\" (labeled `wgt_HL`, `wgt_HLM`, `wv`), there was an obvious difference between the three.  Of the 12 logistic regression scores, `wgt_HLM` f1-scores were ~0.70, `wgt_HL` f1-scores were ~0.71, and `wv` f1-scores were ~0.72.  Surprisingly, expanding our HL clustering to H,L and M did not prove fruitful. In contrast, using all categories using wv scoring tended to provide the best f1-scores.<br> <br>\n",
    "* **2 Imputing Methods** - Between mean and zero imputation, there was very little difference on the 12 logistic regression scores.  As a next step, we would leverage the simplicity and performance efficiency of imputing zero, and consider other, more complex imputation methods for further optimizations.<br> <br>\n",
    "* **2 Algorithms** - Logistic regression performed better than decision trees based on f1 scores where eight of the top twelve algorithms were in this class. Generally, decisions are expected to perform better. However, when classes are not well separated, such as in continuous variables, logistic regression models  can generalize better. Perhaps the transformation of categories to weight values may be responsible for this observation. However, we will feel that we have not explored this dataset fully to make this a recommendation.<br> <br>\n",
    "* **2 Model Runs** - Within the linear regression models, tuning did not improve f1-scores, and in a couple cases actually reduced them.  We hypothesize that this is based on the random variability of the cross-validation folds, given that we only computed 3 folds per model, but may have also been due to poorly-documented features of the spark libraries that otherwise decreased performance in our case.<br> <br>"
   ]
  },
  {
   "cell_type": "markdown",
   "metadata": {},
   "source": [
    "<br>"
   ]
  },
  {
   "cell_type": "markdown",
   "metadata": {},
   "source": [
    "### Best Logistic Regression Model"
   ]
  },
  {
   "cell_type": "code",
   "execution_count": 21,
   "metadata": {},
   "outputs": [
    {
     "name": "stdout",
     "output_type": "stream",
     "text": [
      "Test Results:\n",
      "Accuracy: 0.7569003024700633\n",
      "Precision: 0.7255050987700802\n",
      "Recall: 0.7569003024700633\n",
      "F1 Score: 0.7253463048184301\n",
      "... completed job in 382.6604161262512 seconds.\n"
     ]
    }
   ],
   "source": [
    "# parameter tuned\n",
    "start = time.time()\n",
    "\n",
    "lr = LogisticRegression(featuresCol = 'features', labelCol = 'label', maxIter=10)\n",
    "lrModel = lr_cross_validate(lr).fit(pipeline_prep(feature_prep(zero_wv_df)))\n",
    "\n",
    "print(\"Test Results:\")\n",
    "lr_predictions = lrModel.transform(pipeline_prep(feature_prep(zero_wv_test_df)))\n",
    "test_results(lr_predictions)\n",
    "\n",
    "print(f'... completed job in {time.time() - start} seconds.')"
   ]
  },
  {
   "cell_type": "code",
   "execution_count": 22,
   "metadata": {},
   "outputs": [
    {
     "name": "stdout",
     "output_type": "stream",
     "text": [
      "Best Param (elasticNetParam): 0.0\n",
      "Best Param (regParam): 0.0\n"
     ]
    }
   ],
   "source": [
    "bestModel = lrModel.bestModel\n",
    "print ('Best Param (elasticNetParam):', bestModel._java_obj.getElasticNetParam())\n",
    "print ('Best Param (regParam):', bestModel._java_obj.getRegParam())"
   ]
  },
  {
   "cell_type": "markdown",
   "metadata": {},
   "source": [
    "**<center>Logistic Regression Parameters</center>**\n",
    "\n",
    "|\t Parameter Options\t|\tParameter Values Tested\t|\tDefault Parameters\t|\tBest Parameters\t|\n",
    "|\t---\t|\t---\t|\t---\t|\t---\t|\n",
    "|\tRegularization (elasticNetParam)\t|\t[0.0, 0.25, 0.75, 1.0]\t|\t0.0 = Ridge Regularization, L2\t|\t0.0\t|\n",
    "|\tLearning Rate (regParam)\t|\t[0.0, 0.01, 0.1, 0.5, 0.75, 1.0, 1.25]\t|\t0.0 = Learning Rate per Iteration\t|\t0.0\t|"
   ]
  },
  {
   "cell_type": "markdown",
   "metadata": {},
   "source": [
    "The elasticNetParam mixing parameter is the regularization that takes values in the range of [0, 1]. A parameter of 0 is the L2, ridge regularization penalty, and a parameter of 1 is the L1, lasso regularization penalty. The fact that our model favored ridge regularization indicates that most of our variables impact the model results and have coefficient weights of roughly equal size. The regParam or learning rate is a regularization parameter that takes a value of greater than 0. For this best logistic regression model, a $\\gamma = 0.01$ was the optimal learning rate through each iteration. This corresponds to a small learning rate and small updates to the model coefficients throughout each iteration."
   ]
  },
  {
   "cell_type": "markdown",
   "metadata": {},
   "source": [
    "<br>"
   ]
  },
  {
   "cell_type": "markdown",
   "metadata": {},
   "source": [
    "#### Calculating Logistic Regression Log Loss"
   ]
  },
  {
   "cell_type": "markdown",
   "metadata": {},
   "source": [
    "In addition to looking at the best model parameters, we will calculate the log loss for our logistic regression and decision tree best models. Log Loss is well used in logistics regression since the prediction function is non-linear as the it is a sigmoidal function. While not as frequent some analyst have used log loss in decision trees, which we looked at as well. In both instances the prediction is between 0 and 1 where the model uses probability to make this classification. This is the equation that asseses the log loss on a single observation: $-y_i \\cdot log (\\hat{y}) - (1 - y_i) \\cdot log (1-\\hat{y})$. The average of the single observation log loss's is the log loss of the model and should be minimized. \n",
    "\n",
    "The equation above denotes the actual results (0 or 1) as $y_i$ and the predicted as $\\hat{y}$ ranging from 0 to 1. The acutal forces one side of the equation to be zero. For this reason, the log loss can be calculated for the range of probabilities between 0 and 1.\n",
    "\n",
    "If the actual value is 1 ($y_i = 1$), we have evaluated two scenarios here of what would happen if the prediction were 1 and if the prediction probability were very far off at 0.5. The log loss increases exponentially based on how far away the prediction is from the actual value: $-1 \\cdot log (1) = 0  $ and  $-1 \\cdot log (0.5) = 0.69$. Therefore, the log loss penalizes predictions more if the prediction probability is further away from the actual value\n",
    "\n",
    "Conversely, if the value actual value is zero ($y_i = 0$) the right side of the equation can be isolated and calculated. So if the prediction of $1$ is $0.1$ and the actual is $0$ then the loss is $0.11$: $- (1 - 0) \\cdot log (1-0.1) = 0.11$\n",
    "\n",
    "Pragmatically log loss is a useful tool to identify the best model during tuning. Log loss is convex guranteeing a global minima that will represent the best model. We chose to use the actual data to do a graph but a graph could be imputed with the range between 0 and 1 to show all the hypothetical loss for each prediction (1 or 0). This global minima will intersect. \n",
    "\n",
    "The decision tree log loss actual results tend to be very close to either one or zero and nothing in between. This is akin to Naive Bayes that may be over confident where a tool such as Laplace smoothing would help generalize the model and make log loss more useful. We have not been able to perform Laplace smoothing on our models, but would look into it further in the future."
   ]
  },
  {
   "cell_type": "code",
   "execution_count": 23,
   "metadata": {},
   "outputs": [
    {
     "name": "stdout",
     "output_type": "stream",
     "text": [
      "+-----+--------------------+--------------------+--------------------+----------+\n",
      "|label|            features|       rawPrediction|         probability|prediction|\n",
      "+-----+--------------------+--------------------+--------------------+----------+\n",
      "|  0.0|(39,[0,1,4,5,6,7,...|[3.27495624342561...|[0.96355959820765...|       0.0|\n",
      "|  0.0|[0.25305194484258...|[2.04684298964695...|[0.88562823150179...|       0.0|\n",
      "|  0.0|[0.25673031619725...|[1.79207139649937...|[0.85718104806406...|       0.0|\n",
      "|  0.0|[0.25673031619725...|[1.30896002948168...|[0.78733907914404...|       0.0|\n",
      "|  0.0|[0.25667510250524...|[1.84772951258284...|[0.86386030130192...|       0.0|\n",
      "+-----+--------------------+--------------------+--------------------+----------+\n",
      "only showing top 5 rows\n",
      "\n"
     ]
    }
   ],
   "source": [
    "lr_predictions.select(\"label\", \"features\", \"rawPrediction\", \"probability\", \"prediction\").show(5)"
   ]
  },
  {
   "cell_type": "code",
   "execution_count": 65,
   "metadata": {},
   "outputs": [],
   "source": [
    "lr_predictions = lr_predictions.select(\"label\", \"probability\", \"prediction\")\n",
    "\n",
    "# separating out the probability array\n",
    "lr_predictions = lr_predictions.withColumn(\"prob_array\", to_array(col(\"probability\"))).select([\"label\", \"prediction\", \"probability\"] + \n",
    "                                                                                              [col(\"prob_array\")[0].alias('prob_label_0')] + \n",
    "                                                                                              [col(\"prob_array\")[1].alias('prob_label_1')])\n",
    "\n",
    "# Calculating the weighted log loss with the probabilities\n",
    "lr_predictions = lr_predictions.withColumn('logloss', -(col('label') * log(col('prob_label_1'))) -  ((1 - col('label')) * log(1 - col('prob_label_1'))))\n",
    "\n",
    "logloss = lr_predictions.agg(mean('logloss').alias('ll')).collect()[0]['ll']"
   ]
  },
  {
   "cell_type": "code",
   "execution_count": 66,
   "metadata": {},
   "outputs": [
    {
     "name": "stdout",
     "output_type": "stream",
     "text": [
      "+-----+----------+-----------------------------------------+------------------+--------------------+-------------------+\n",
      "|label|prediction|probability                              |prob_label_0      |prob_label_1        |logloss            |\n",
      "+-----+----------+-----------------------------------------+------------------+--------------------+-------------------+\n",
      "|0.0  |0.0       |[0.9635595982076531,0.036440401792346915]|0.9635595982076531|0.036440401792346915|0.03712093709089472|\n",
      "|0.0  |0.0       |[0.8856282315017958,0.1143717684982043]  |0.8856282315017958|0.1143717684982043  |0.12145801970625345|\n",
      "|0.0  |0.0       |[0.8571810480640601,0.14281895193593996] |0.8571810480640601|0.14281895193593996 |0.154106124745114  |\n",
      "|0.0  |0.0       |[0.7873390791440487,0.21266092085595129] |0.7873390791440487|0.21266092085595129 |0.23909627310748252|\n",
      "|0.0  |0.0       |[0.8638603013019254,0.13613969869807466] |0.8638603013019254|0.13613969869807466 |0.14634421155900182|\n",
      "+-----+----------+-----------------------------------------+------------------+--------------------+-------------------+\n",
      "only showing top 5 rows\n",
      "\n"
     ]
    }
   ],
   "source": [
    "lr_predictions.show(5,truncate=False)"
   ]
  },
  {
   "cell_type": "code",
   "execution_count": 68,
   "metadata": {},
   "outputs": [
    {
     "name": "stdout",
     "output_type": "stream",
     "text": [
      "The logistic regression log loss is: 0.562480 and the intersection point below of the two probability \n",
      "curves happens at this point of log loss\n"
     ]
    }
   ],
   "source": [
    "print (\"The logistic regression log loss is:\", format(logloss, '.6f'), \n",
    "       \"and the intersection point below of the two probability \\ncurves happens at this point of log loss\")"
   ]
  },
  {
   "cell_type": "code",
   "execution_count": 27,
   "metadata": {},
   "outputs": [],
   "source": [
    "lr_predictions_0 = lr_predictions.filter(col('label').isin(0))\n",
    "lr_pr_lab0_list = lr_predictions_0.select('prob_label_0').collect()\n",
    "lr_logloss0_list = lr_predictions_0.select('logloss').collect()\n",
    "\n",
    "lr_predictions_1 = lr_predictions.filter(col('label').isin(1))\n",
    "lr_pr_lab1_list = lr_predictions_1.select('prob_label_1').collect()\n",
    "lr_logloss1_list = lr_predictions_1.select('logloss').collect()"
   ]
  },
  {
   "cell_type": "code",
   "execution_count": 54,
   "metadata": {},
   "outputs": [],
   "source": [
    "lr_pr_lab0_list_2 = [1.0 - lr_pr_lab0_list[i][0] for i in range(len(lr_pr_lab0_list))]"
   ]
  },
  {
   "cell_type": "code",
   "execution_count": 73,
   "metadata": {},
   "outputs": [
    {
     "data": {
      "image/png": "[encoded data removed]",
      "text/plain": [
       "<Figure size 648x360 with 1 Axes>"
      ]
     },
     "metadata": {},
     "output_type": "display_data"
    }
   ],
   "source": [
    "plt.figure(figsize=(9,5))\n",
    "\n",
    "plt.scatter(lr_pr_lab0_list_2, lr_logloss0_list, alpha = 0.5, marker = 'o', color='c', label = \"Label 0\")\n",
    "plt.scatter(lr_pr_lab1_list, lr_logloss1_list, alpha = 0.5, marker = 'o', color='m', label = \"Label 1\")\n",
    "plt.legend(loc='upper left')\n",
    "plt.xlabel(\"Probability of Class 1\")\n",
    "plt.ylabel(\"Log Loss\")\n",
    "plt.title(\"Logistic Regression: Relationship Between Predicting Class 1 and Log Loss\")\n",
    "\n",
    "plt.show()"
   ]
  },
  {
   "cell_type": "markdown",
   "metadata": {},
   "source": [
    "<br>"
   ]
  },
  {
   "cell_type": "markdown",
   "metadata": {},
   "source": [
    "### Best Decision Tree Model"
   ]
  },
  {
   "cell_type": "code",
   "execution_count": 29,
   "metadata": {},
   "outputs": [
    {
     "name": "stdout",
     "output_type": "stream",
     "text": [
      "Test Results:\n",
      "Accuracy: 0.7589320128304796\n",
      "Precision: 0.7265470806742257\n",
      "Recall: 0.7589320128304796\n",
      "F1 Score: 0.7219152279862708\n",
      "... completed job in 550.5507028102875 seconds.\n"
     ]
    }
   ],
   "source": [
    "# parameter tuned\n",
    "start = time.time()\n",
    "\n",
    "dt = DecisionTreeClassifier(featuresCol = 'features', labelCol = 'label', maxDepth = 3)\n",
    "dtModel = dt_cross_validate(dt).fit(pipeline_prep(feature_prep(zero_wv_df)))\n",
    "\n",
    "print(\"Test Results:\")\n",
    "dt_predictions = dtModel.transform(pipeline_prep(feature_prep(zero_wv_test_df)))\n",
    "test_results(dt_predictions)\n",
    "\n",
    "print(f'... completed job in {time.time() - start} seconds.')"
   ]
  },
  {
   "cell_type": "code",
   "execution_count": 30,
   "metadata": {},
   "outputs": [
    {
     "name": "stdout",
     "output_type": "stream",
     "text": [
      "Decision Tree Model Parameters:\n"
     ]
    },
    {
     "data": {
      "text/plain": [
       "{Param(parent='DecisionTreeClassifier_8ac1461343cb', name='maxBins', doc='Max number of bins for discretizing continuous features.  Must be >=2 and >= number of categories for any categorical feature.'): 30,\n",
       " Param(parent='DecisionTreeClassifier_8ac1461343cb', name='maxDepth', doc='Maximum depth of the tree. (>= 0) E.g., depth 0 means 1 leaf node; depth 1 means 1 internal node + 2 leaf nodes.'): 7,\n",
       " Param(parent='DecisionTreeClassifier_8ac1461343cb', name='impurity', doc='Criterion used for information gain calculation (case-insensitive). Supported options: entropy, gini'): 'gini'}"
      ]
     },
     "execution_count": 30,
     "metadata": {},
     "output_type": "execute_result"
    }
   ],
   "source": [
    "print(\"Decision Tree Model Parameters:\")\n",
    "dtModel.getEstimatorParamMaps()[np.argmax(dtModel.avgMetrics)]"
   ]
  },
  {
   "cell_type": "markdown",
   "metadata": {},
   "source": [
    "**<center>Decision Tree Model Parameters</center>**\n",
    "\n",
    "|\t Parameter Options\t|\tParameter Values Tested\t|\tDefault Parameters\t|\tBest Parameters\t|\n",
    "|\t---\t|\t---\t|\t---\t|\t---\t|\n",
    "|\t# of Bins (maxBins) \t|\t[28, 30, 32, 34, 36]\t|\t32 = Bins\t|\t30\t|\n",
    "|\tDepth of Trees (maxDepth)\t|\t[3, 4, 5, 6, 7]\t|\t5 = Layers of the Tree\t|\t7\t|\n",
    "|\tImpurity\t|\t['gini', 'entropy']\t|\tgini = Impurity\t|\tgini\t|"
   ]
  },
  {
   "cell_type": "markdown",
   "metadata": {},
   "source": [
    "We found that the best parameters included a maximum number of bins of 30, a maximum depth of 7, and criterion gini. The maximum number of bins represents the number of node splits at each layer. The maximum depth represents the maximum depth of each decision tree, or the maximum number of levels of each of those trees. Limiting the depth of the trees in our random forest helps reduce the number of important features. We have to evaluate a balance between the number of nodes within each layer of the tree and maximum layers of the tree. We want to make sure that we conform to the train data, while not overfitting so much that we lose a goodness of fit between the train and test data. The criterion in this instance refers to the quality of each node split within our tree. The gini criterion was chosen as the best parameter over the entropy criterion. This measures how often a randomly chosen observation within our training data would be mislabeled."
   ]
  },
  {
   "cell_type": "markdown",
   "metadata": {},
   "source": [
    "<br>"
   ]
  },
  {
   "cell_type": "markdown",
   "metadata": {},
   "source": [
    "#### Calculating Decision Tree Log Loss"
   ]
  },
  {
   "cell_type": "code",
   "execution_count": 31,
   "metadata": {},
   "outputs": [
    {
     "name": "stdout",
     "output_type": "stream",
     "text": [
      "+-----+--------------------+-----------------+--------------------+----------+\n",
      "|label|            features|    rawPrediction|         probability|prediction|\n",
      "+-----+--------------------+-----------------+--------------------+----------+\n",
      "|  0.0|(39,[0,1,4,5,6,7,...|  [185936.0,26.0]|[0.99986018648971...|       0.0|\n",
      "|  0.0|[0.25305194484258...|[53085.0,12345.0]|[0.81132508023842...|       0.0|\n",
      "|  0.0|[0.25673031619725...|  [185936.0,26.0]|[0.99986018648971...|       0.0|\n",
      "|  0.0|[0.25673031619725...|  [3924.0,1651.0]|[0.70385650224215...|       0.0|\n",
      "|  0.0|[0.25667510250524...|[38687.0,12209.0]|[0.76011867337315...|       0.0|\n",
      "+-----+--------------------+-----------------+--------------------+----------+\n",
      "only showing top 5 rows\n",
      "\n"
     ]
    }
   ],
   "source": [
    "dt_predictions.select(\"label\", \"features\", \"rawPrediction\", \"probability\", \"prediction\").show(5)"
   ]
  },
  {
   "cell_type": "code",
   "execution_count": 69,
   "metadata": {},
   "outputs": [],
   "source": [
    "dt_predictions = dt_predictions.select(\"label\", \"probability\", \"prediction\")\n",
    "\n",
    "# separating out the probability array\n",
    "dt_predictions = dt_predictions.withColumn(\"prob_array\", to_array(col(\"probability\"))).select([\"label\", \"prediction\", \"probability\"] + \n",
    "                                                                                              [col(\"prob_array\")[0].alias('prob_label_0')] + \n",
    "                                                                                              [col(\"prob_array\")[1].alias('prob_label_1')])\n",
    "\n",
    "# calculating the weighted log loss with the probabilities\n",
    "dt_predictions = dt_predictions.withColumn('logloss', -(col('label') * log(col('prob_label_1'))) -  ((1 - col('label')) * log(1 - col('prob_label_1'))))                              \n",
    "\n",
    "logloss = dt_predictions.agg(mean('logloss').alias('ll')).collect()[0]['ll']"
   ]
  },
  {
   "cell_type": "code",
   "execution_count": 70,
   "metadata": {},
   "outputs": [
    {
     "name": "stdout",
     "output_type": "stream",
     "text": [
      "+-----+----------+-----------------------------------------+------------------+---------------------+---------------------+\n",
      "|label|prediction|probability                              |prob_label_0      |prob_label_1         |logloss              |\n",
      "+-----+----------+-----------------------------------------+------------------+---------------------+---------------------+\n",
      "|0.0  |0.0       |[0.999860186489713,1.3981351028704788E-4]|0.999860186489713 |1.3981351028704788E-4|1.3982328510696475E-4|\n",
      "|0.0  |0.0       |[0.8113250802384228,0.18867491976157727] |0.8113250802384228|0.18867491976157727  |0.20908646641611098  |\n",
      "|0.0  |0.0       |[0.999860186489713,1.3981351028704788E-4]|0.999860186489713 |1.3981351028704788E-4|1.3982328510696475E-4|\n",
      "|0.0  |0.0       |[0.7038565022421525,0.29614349775784754] |0.7038565022421525|0.29614349775784754  |0.3511807756430658   |\n",
      "|0.0  |0.0       |[0.7601186733731531,0.2398813266268469]  |0.7601186733731531|0.2398813266268469   |0.27428070871657234  |\n",
      "+-----+----------+-----------------------------------------+------------------+---------------------+---------------------+\n",
      "only showing top 5 rows\n",
      "\n"
     ]
    }
   ],
   "source": [
    "dt_predictions.show(5, truncate=False)"
   ]
  },
  {
   "cell_type": "code",
   "execution_count": 71,
   "metadata": {},
   "outputs": [
    {
     "name": "stdout",
     "output_type": "stream",
     "text": [
      "The logistic regression log loss is: 0.600580 and the intersection point below of the two probability \n",
      "curves happens at this point of log loss\n"
     ]
    }
   ],
   "source": [
    "print (\"The logistic regression log loss is:\", format(logloss, '.6f'), \n",
    "       \"and the intersection point below of the two probability \\ncurves happens at this point of log loss\")"
   ]
  },
  {
   "cell_type": "code",
   "execution_count": 35,
   "metadata": {},
   "outputs": [],
   "source": [
    "dt_predictions_0 = dt_predictions.filter(col('label').isin(0))\n",
    "dt_pr_lab0_list = dt_predictions_0.select('prob_label_0').collect()\n",
    "dt_logloss0_list = dt_predictions_0.select('logloss').collect()\n",
    "\n",
    "dt_predictions_1 = dt_predictions.filter(col('label').isin(1))\n",
    "dt_pr_lab1_list = dt_predictions_1.select('prob_label_1').collect()\n",
    "dt_logloss1_list = dt_predictions_1.select('logloss').collect()"
   ]
  },
  {
   "cell_type": "code",
   "execution_count": 57,
   "metadata": {},
   "outputs": [],
   "source": [
    "dt_pr_lab0_list_2 = [1.0 - dt_pr_lab0_list[i][0] for i in range(len(dt_pr_lab0_list))]"
   ]
  },
  {
   "cell_type": "code",
   "execution_count": 74,
   "metadata": {},
   "outputs": [
    {
     "data": {
      "image/png": "[encoded data removed]",
      "text/plain": [
       "<Figure size 648x360 with 1 Axes>"
      ]
     },
     "metadata": {},
     "output_type": "display_data"
    }
   ],
   "source": [
    "plt.figure(figsize=(9,5))\n",
    "\n",
    "plt.scatter(dt_pr_lab0_list_2, dt_logloss0_list, alpha = 0.5, marker = 'o', color='c', label = \"Label 0\")\n",
    "plt.scatter(dt_pr_lab1_list, dt_logloss1_list, alpha = 0.5, marker = 'o', color='m', label = \"Label 1\")\n",
    "plt.legend(loc='upper left')\n",
    "plt.xlabel(\"Probability of Class 1\")\n",
    "plt.ylabel(\"Log Loss\")\n",
    "plt.title(\"Decision Tree: Relationship Between Predicting Class 1 and Log Loss\")\n",
    "\n",
    "plt.show()"
   ]
  },
  {
   "cell_type": "markdown",
   "metadata": {},
   "source": [
    "<br>"
   ]
  },
  {
   "cell_type": "markdown",
   "metadata": {},
   "source": [
    "## Scaling the Models in Google Cloud"
   ]
  },
  {
   "cell_type": "markdown",
   "metadata": {},
   "source": [
    "We were able to scale two of our models in the Google Cloud on the full dataset without the use of the log transformation. A diagram of what we were able to scale as well as pictures of the scaled models are below. Separately, we have a Jupyter Notebook in our Github of our results."
   ]
  },
  {
   "cell_type": "markdown",
   "metadata": {},
   "source": [
    "|\tCategorical Transformation\t|\tNumeric Null Handling\t|\t Scaling Worked - LR: vs. DT\t|\n",
    "|\t-------\t            |\t-------\t|\t-------\t|\n",
    "|\tWeighted\t        |\timpute  0 \t|\tLR: No; DT: No\t|\n",
    "|\t\t                |\tinpute mean\t|\tLR: No; DT: No\t|\n",
    "|\tHi, Lo, Medium (binning) based on weights Nulls converted to M\t|\timpute  0 \t|\tLR: Yes; DT: Yes\t|\n",
    "|\t\t                |\tinpute mean\t|\tLR: No; DT: No\t|\n",
    "|\tHi Lo (One hot encoding) 2\tNulls converted to L|\timpute  0 \t|\tLR: Yes; DT: Yes\t|\n",
    "|\t\t                |\tinpute mean\t|\tLR: No; DT: No\t|"
   ]
  },
  {
   "cell_type": "markdown",
   "metadata": {},
   "source": [
    "### Logistic Regression Runs"
   ]
  },
  {
   "cell_type": "markdown",
   "metadata": {},
   "source": [
    "**Logistic Regression Model: HL Categorical and Zero Numeric Transformations**\n",
    "\n",
    "<img src=\"images/lr_zero_wgt_HL.png\" style=\"width: 600px;\" align=\"left\">"
   ]
  },
  {
   "cell_type": "markdown",
   "metadata": {},
   "source": [
    "**Logistic Regression Model: HL Categorical and Zero Numeric Transformation Tuned**\n",
    "\n",
    "<img src=\"images/lr_zero_wgt_HLM_tuned.png\" style=\"width: 600px;\" align=\"left\">"
   ]
  },
  {
   "cell_type": "markdown",
   "metadata": {},
   "source": [
    "**Logistic Regression Model: HLM Categorical and Zero Numeric Transformations**\n",
    "\n",
    "<img src=\"images/lr_zero_wgt_HLM.png\" style=\"width: 600px;\" align=\"left\">"
   ]
  },
  {
   "cell_type": "markdown",
   "metadata": {},
   "source": [
    "**Logistic Regression Model: HLM Categorical and Zero Numeric Transformations Tuned**\n",
    "\n",
    "<img src=\"images/lr_zero_wgt_HLM_tuned.png\" style=\"width: 600px;\" align=\"left\">"
   ]
  },
  {
   "cell_type": "markdown",
   "metadata": {},
   "source": [
    "<br>"
   ]
  },
  {
   "cell_type": "markdown",
   "metadata": {},
   "source": [
    "### Decision Tree Runs"
   ]
  },
  {
   "cell_type": "markdown",
   "metadata": {},
   "source": [
    "**Decision Tree Model: HL Categorical and Zero Numeric Transformations**\n",
    "\n",
    "<img src=\"images/dt_zero_wgt_HL.png\" style=\"width: 600px;\" align=\"left\">"
   ]
  },
  {
   "cell_type": "markdown",
   "metadata": {},
   "source": [
    "**Decision Tree Model: HL Categorical and Zero Numeric Transformations Tuned**\n",
    "\n",
    "<img src=\"images/dt_zero_wgt_HL_tuned.png\" style=\"width: 600px;\" align=\"left\">"
   ]
  },
  {
   "cell_type": "markdown",
   "metadata": {},
   "source": [
    "**Decision Tree Model: HLM Categorical and Zero Numeric Transformations**\n",
    "\n",
    "<img src=\"images/dt_zero_wgt_HLM.png\" style=\"width: 600px;\" align=\"left\">"
   ]
  },
  {
   "cell_type": "markdown",
   "metadata": {},
   "source": [
    "**Decision Tree Model: HLM Categorical and Zero Numeric Transformations Tuned**\n",
    "\n",
    "<img src=\"images/dt_zero_wgt_HLM.png\" style=\"width: 600px;\" align=\"left\">"
   ]
  },
  {
   "cell_type": "markdown",
   "metadata": {},
   "source": [
    "<br>"
   ]
  },
  {
   "cell_type": "markdown",
   "metadata": {},
   "source": [
    "**Resources Referenced:**\n",
    "\n",
    "* [Towards Data Science: Spark MLlib Python Example — Machine Learning At Scale](https://towardsdatascience.com/machine-learning-at-scale-with-apache-spark-mllib-python-example-b32a9c74c610)\n",
    "* [Towards Data Science: Machine Learning with PySpark and MLlib — Solving a Binary Classification Problem](https://towardsdatascience.com/machine-learning-with-pyspark-and-mllib-solving-a-binary-classification-problem-96396065d2aa)\n",
    "* [Towards Data Science: Feature Transformation](https://towardsdatascience.com/apache-spark-mllib-tutorial-7aba8a1dce6e)\n",
    "* [Towards Data Science: Feature Encoding Made Simple With Spark 2.3.0 — Part 2](https://towardsdatascience.com/feature-encoding-made-simple-with-spark-2-3-0-part-2-5bfc869a809a)\n",
    "* [Towards Data Science: A Brief Introduction to PySpark](https://towardsdatascience.com/a-brief-introduction-to-pyspark-ff4284701873)\n",
    "* [Towards Data Science: Multi-Class Text Classification with PySpark](https://towardsdatascience.com/multi-class-text-classification-with-pyspark-7d78d022ed35)\n",
    "* [Apache Spark: Extracting, transforming and selecting features](https://spark.apache.org/docs/2.1.0/ml-features.html)\n",
    "* [Apache Spark: Classification and regression](https://spark.apache.org/docs/2.1.0/ml-classification-regression.html)\n",
    "* [Apache Spark: Class MulticlassClassificationEvaluator](https://spark.apache.org/docs/2.2.0/api/java/org/apache/spark/ml/evaluation/MulticlassClassificationEvaluator.html)\n",
    "* [Analytics Vidhya: Want to Build Machine Learning Pipelines? A Quick Introduction using PySpark](https://www.analyticsvidhya.com/blog/2019/11/build-machine-learning-pipelines-pyspark/)\n",
    "* [Stack Overflow: How to extract model hyper-parameters from spark.ml in PySpark?](https://stackoverflow.com/questions/36697304/how-to-extract-model-hyper-parameters-from-spark-ml-in-pyspark)\n",
    "* [ResearchGate: Log transformation and standardization, which should come first?](https://www.researchgate.net/post/log_transformation_and_standardization_which_should_come_first)\n",
    "* [Bhavesh Bhatt: Log Loss or Cross-Entropy Cost Function in Logistic Regression](https://www.youtube.com/watch?v=MztgenIfGgM&feature=emb_logo)"
   ]
  },
  {
   "cell_type": "markdown",
   "metadata": {},
   "source": [
    "<br>\n",
    "<br>"
   ]
  },
  {
   "cell_type": "markdown",
   "metadata": {},
   "source": [
    "# __Section 5__ - Course Concepts"
   ]
  },
  {
   "cell_type": "markdown",
   "metadata": {},
   "source": [
    "**<font color='red'>\n",
    "5. Application of Course Concepts -- Pick 3-5 key course concepts and discuss how your work on this assignment illustrates an understanding of these concepts.\n",
    "    </font>**"
   ]
  },
  {
   "cell_type": "markdown",
   "metadata": {},
   "source": [
    "### Lazy Evaluation\n",
    "\n",
    "Lazy evaluation allows a process to wait to evaluate an expression (a \"transformations\") until the result is needed (by an \"action\"). Spark builds a 'DAG' (directed acyclic graph) to describe the structure of the job and calculate the best way to return the result needed by the action. This means that Spark may process steps in a transformation out of the order listed in the code, but in a much more performant order. This also means that when running lines of code sequentially, the time it takes for a given \"line\" of code including only \"transformations\" to process will only represent the time it takes Spark to update the DAG with the transformations. Any data processing time for that transformation will be delayed until an action is called (or never realized if no action is ever called related to that transformation).\n",
    "\n",
    "Throughout our EDA and the process of building our modeling pipeline, we had the experience of lazy evaluation: transformations appeared to run incredibly fast, until we finally call an action, and they take far longer. As the project progressed, we were conscious of strategic placement of actions to organize our steps for efficiency, and to let Spark handle the overhead of deciding in which order transformations happen. Said another way, we were conscious that the transformations we performed would not show up in the runtime of our code until an action was actually called.\n",
    "\n",
    "We were also conscious of the other implication of lazy evaluation: if a series of transformations are not cached, then each time an action is called on that series of transformations, the transformations will be re-processed. So we cached or saved (and broadcast as necessary) any result that we would reuse.\n",
    "\n",
    "* An example would be:\n",
    "    * After sampling and saving the data as parquet, we load one of our samples for testing.  We want to split it into train and test, so we do not do our EDA on our test set. We run `.randomSplit([0.8, 0.2])`: \"... completed job in 0.06303691864013672 seconds.\" This time is very quick.\n",
    "    * However, if we were to call `.show()` on either of the `.randomSplit` files, which would be calling an action, the time would take much longer\n",
    "    \n",
    "<br>\n",
    "\n",
    "### One-Hot Encoding, Binning, and Dimensionality Reduction\n",
    "\n",
    "\n",
    "From our initial EDA, we realized that we would need to address the long tail of observations in many of the categorical variables. With respect to this course, it was clear that if we one-hot encoded all categorical variables, we would end up with thousands if not millions of columns. This would be too much data to shuffle over the network and would likely crash our Google Cloud clusters. Just a pass on the data to calculate the list of features to one-hot encode would have been computationally taxing. In addition, we had many rare instances of features so we would have likely been overfitting or needed to conduct some type of principal component analysis.\n",
    "\n",
    "As opposed to full one-hot encoding of all categorical variables, we took a different approach. As described above in our toy example discussion, we first binned the categorical variables using a feature hashing based on the weighted mean score for each value. This reduced our number of dimensions dramatically and allowed us to use a framework where we could continue to tune our feature selection. Among our next steps within this project, we would like to continue to develop our model by enhancing our binning and feature hashing rules. For example, we could do the following:\n",
    "* Map values with occurrence rates below a threshold (for instance less than n<30 of observations) to a \"rare or unseen\" category separate from the rest of the one-hot encoded categories\n",
    "* Update our binning rule to take into account confidence intervals based on the ratio of success : failures of a given value\n",
    "* Refine whether or how to continue to bin multiple values into our \"high, middle, low, etc.\" categories or one-hot encode with the occurrence rate or confidence thresholds only\n",
    "* Apply any of these enhancements to the variables individually rather than using a single method for the whole model\n",
    "\n",
    "Nonetheless, our binning method provided a scalable solution to dimensionality reduction and avoided the main performance pitfall of the feature dimensionalty.\n",
    "\n",
    "<br>\n",
    "\n",
    "### Overfitting, Normalization, and Performance at Scale\n",
    "\n",
    "One large area of learning for our team is in an area we had moderate success in addressing for the small training sets, but fairly large success with the large training set (one million) and the full dataset was overfitting. Given the scope of this assignment and of this class, our priority was on answering the primary goal of our analysis: building a scalable model to handle the size and scope of this dataset that predicts a favorable click through rate `_c0=1`. Given the scope of this assignment and of this class, our priority was on answering the primary goal of our analysis: building a scalable model to handle the size and scope of this dataset that predicts a favorable click through rate. Successful predictions were important, but a performant model was our priority. We knew from our initial EDA that we would need to address the high dimensionality of the data, and that we would need to do that in a scalable way. We also knew to be conscious of building a model that overfit by \"learning\" the training data too well, and actually capturing the noise or errors in the training data. We wanted to create a model that would generalize well to our test data, giving us confidence that it could be used in the future to predict click-through-rates on new data. \n",
    "\n",
    "We did not anticipate the scale of the overfitting that our initial attempts caused. We had hoped, and subsequently learned otherwise, that we might save the processing expense of log transforming and normalizing our test data; performance was poor with a dramatic difference between in-sample and out-of-sample fit. At first, when we imputed the mean on our numeric variables without log transforming or normalizing, and then tried to fit the test variables, the scale was out of whack and performance dropped precipitously. We had a similar experience in dealing with the categorical data. We then updated our logic, looked at log transforming and normalizing the numeric variables (mostly due to the histograms shown in the EDA above), and binned the categorical variables. This transforming and binning of the training data helped us overfit less and generalize to new data (i.e. the training data) a lot more. These transformations also succeeded in providing a scalable solution to the large number of distinct values in some of the categorical variables, while still unfortunately capturing the noise inherent to rare observations.  \n",
    "\n",
    "Due purely to chance, we could expect that rare categories would sometimes clump into positive or negative clusters that do not reflect the underlying population distribution. Think of a bag of coins: if you grab 5 each of pennies, nickels, dimes, and quarters and throw them all in the air, you would expect to see ~50% heads and ~50% tails. But, by definition, every coin type would have either more heads or more tails because we have an odd number, and we would not be particularly surprised for one type of coin to land all heads. After the fact, there's no way to know whether all of the pennies landed heads up by chance, or all the tails were glued to the ground. And this is the same story with rare categories: we know how likely our data is to correspond to clicks or not, but our current implementation uses that as the value to generalize to new data, and sometimes the underlying population proportion is different. That difference is overfitting.\n",
    "\n",
    "We discussed in the one-hot encoding above in this section a number of next step solutions to help address the remaining overfitting in our model. Particularly, mapping rare occurrences to a \"rare\" category, update the binning rule to take into account confidence intervals based on success rate and number of observations, and replace our hashing with more traditional one-hot encoding to separate out these features (though this last may actually increase overfitting as we learn more precisely from these values). Regardless, we learned alot about the challenges of overfitting when dealing with data at scale."
   ]
  }
 ],
 "metadata": {
  "kernelspec": {
   "display_name": "Python 3",
   "language": "python",
   "name": "python3"
  },
  "language_info": {
   "codemirror_mode": {
    "name": "ipython",
    "version": 3
   },
   "file_extension": ".py",
   "mimetype": "text/x-python",
   "name": "python",
   "nbconvert_exporter": "python",
   "pygments_lexer": "ipython3",
   "version": "3.7.5"
  },
  "toc": {
   "base_numbering": 1,
   "nav_menu": {},
   "number_sections": true,
   "sideBar": true,
   "skip_h1_title": false,
   "title_cell": "Table of Contents",
   "title_sidebar": "Contents",
   "toc_cell": false,
   "toc_position": {},
   "toc_section_display": true,
   "toc_window_display": false
  }
 },
 "nbformat": 4,
 "nbformat_minor": 4
}
